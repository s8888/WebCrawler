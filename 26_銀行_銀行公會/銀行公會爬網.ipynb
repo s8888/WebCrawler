{
 "cells": [
  {
   "cell_type": "raw",
   "metadata": {},
   "source": [
    "'''\n",
    "Project Name: moj project\n",
    "Crawl Cycle: Daily\n",
    "Main Website: http://www.ba.org.tw/PublicInformation/PublicinfoAll\n",
    "author      : 林德昌\n",
    "date        : 2018/12/17\n",
    "description : 抓取銀行公會每天發布的最新消息\n",
    "'''"
   ]
  },
  {
   "cell_type": "code",
   "execution_count": 37,
   "metadata": {},
   "outputs": [],
   "source": [
    "import requests\n",
    "from bs4 import BeautifulSoup\n",
    "import pandas as pd\n",
    "import header\n",
    "import logging\n",
    "import re\n",
    "import datetime\n",
    "import traceback # 印log\n",
    "import os\n",
    "TempPath = \"./Temp\"  # browser file\n",
    "FinalPath = \"./Result\" # project file\n",
    "lastResultPath = \"./CrawlList/lastResult.csv\""
   ]
  },
  {
   "cell_type": "code",
   "execution_count": 38,
   "metadata": {},
   "outputs": [],
   "source": [
    "def downloadFile(finalPath, title, fileUrls, fileNames): # for download pdf or doc\n",
    "    target = finalPath + '/' + title[:30].strip()\n",
    "    # 若目錄不存在，建立目錄\n",
    "    if not os.path.isdir(target):\n",
    "        os.makedirs(target)\n",
    "    for file_url, fileName in zip(fileUrls, fileNames):\n",
    "        try:\n",
    "            response = requests.get(file_url, stream=\"TRUE\")\n",
    "            downloadFile = target + '/' + fileName.strip() # 放置資料夾路徑 + 檔名\n",
    "            logging.info(downloadFile + '\\r\\n')\n",
    "            with open(downloadFile,'wb') as file:\n",
    "                for data in response.iter_content():\n",
    "                    file.write(data)\n",
    "        except:\n",
    "            logging.error(\"爬取檔案失敗\")\n",
    "            logging.error(\"失敗連結：\" + file_url)"
   ]
  },
  {
   "cell_type": "code",
   "execution_count": 39,
   "metadata": {},
   "outputs": [],
   "source": [
    "def dataProcess_Detail(soup, row):\n",
    "    result = dict()\n",
    "    fileUrlroot = 'https://www.ba.org.tw'\n",
    "    result['fileUrls'] = [fileUrlroot + e.get('href') for e in soup.select('.main_Content_downloadList a')]\n",
    "    result['fileNames'] = [e.text for e in soup.select('.main_Content_downloadList a')]\n",
    "    result['issue_date'] = [e.text for e in soup.select('.main_Content_day')][0]\n",
    "    return result"
   ]
  },
  {
   "cell_type": "code",
   "execution_count": 40,
   "metadata": {},
   "outputs": [],
   "source": [
    "def parsingDetail(df, finalPath): \n",
    "    df2 = pd.DataFrame(columns = [\"標題\", \"全文內容\", \"附件\", \"發文字號\", \"發文日期\", \"相關法條\"])\n",
    "    fileUrlRoot = 'https://www.banking.gov.tw'\n",
    "    for index, row in df.iterrows():\n",
    "        try:\n",
    "            title = row['標題']\n",
    "            logging.info(title)\n",
    "            link = row['內文連結']\n",
    "            soup = request2soup(link)\n",
    "            result = dataProcess_Detail(soup, fileUrlRoot)\n",
    "            fileNames = result['fileNames'] \n",
    "            if len(fileNames) != 0:\n",
    "                downloadFile(finalPath, title, result['fileUrls'], fileNames)\n",
    "            d = {'標題': title, '全文內容': '', '附件':fileNames, '發文字號':'', '發文日期':result['issue_date'],\n",
    "                 '相關法條':''}\n",
    "            df2= df2.append(d, ignore_index = True)\n",
    "        except:\n",
    "            logging.error(\"爬取內文失敗\")\n",
    "            logging.error(\"失敗連結：\" + link)\n",
    "            traceback.print_exc()\n",
    "    return df2"
   ]
  },
  {
   "cell_type": "code",
   "execution_count": 41,
   "metadata": {},
   "outputs": [],
   "source": [
    "def outputCsv(df, fileName, path):\n",
    "    # 若目錄不存在，建立目錄\n",
    "    if not os.path.isdir(path):\n",
    "        os.mkdir(path)\n",
    "    df.to_csv(path + \"/\" + fileName + \".csv\", index = False, encoding = \"utf_8_sig\")"
   ]
  },
  {
   "cell_type": "code",
   "execution_count": 42,
   "metadata": {},
   "outputs": [],
   "source": [
    "def compareTo(strDate, endDate):\n",
    "    strDate = re.sub(r'(/|-|\\.)', '-', strDate)\n",
    "    endDate = re.sub(r'(/|-|\\.)', '-', endDate)\n",
    "    if int(re.split('-', strDate)[0]) < 1911:\n",
    "        strDate = datetime.datetime.strptime(str(int(re.sub('-', '', strDate)) + 19110000), \"%Y%m%d\").strftime(\"%Y-%m-%d\")\n",
    "    if int(re.split('-', endDate)[0]) < 1911:\n",
    "        endDate = datetime.datetime.strptime(str(int(re.sub('-', '', endDate)) + 19110000), \"%Y%m%d\").strftime(\"%Y-%m-%d\")\n",
    "    try:\n",
    "        strDate = datetime.datetime.strptime(strDate, \"%Y-%m-%d\")\n",
    "        endDate = datetime.datetime.strptime(endDate, \"%Y-%m-%d\")\n",
    "\n",
    "    except:\n",
    "        logging.error('compareTo(strDate, endDate):')\n",
    "        logging.error(\"日期格式錯誤：strDate = %s, endDate = %s\" %(strDate, endDate))\n",
    "        traceback.print_exc()\n",
    "        return\n",
    "    if strDate < endDate:\n",
    "        return 1\n",
    "    elif strDate == endDate:\n",
    "        return 0\n",
    "    else:\n",
    "        return -1"
   ]
  },
  {
   "cell_type": "code",
   "execution_count": 43,
   "metadata": {},
   "outputs": [],
   "source": [
    "def parsingTitle(soup, checkRange):\n",
    "    try:\n",
    "        # 取得上次爬網結果\n",
    "        if os.path.isfile(lastResultPath):\n",
    "            lastResult = pd.read_csv(lastResultPath)\n",
    "        else:\n",
    "            lastResult = pd.DataFrame()\n",
    "        \n",
    "        # 爬網日期區間為一個禮拜\n",
    "        endDate = datetime.date.today()\n",
    "        preurl = 'https://www.ba.org.tw'\n",
    "        strDate = (endDate - datetime.timedelta(days = checkRange)).isoformat()\n",
    "        df = pd.DataFrame(columns=['爬網日期','發文日期','標題','檔案連結'])\n",
    "        index = 0 # css selector上的資料序號\n",
    "        nowPage = 1\n",
    "        totalContent = [e.text for e in soup.select('td')]\n",
    "        while True:\n",
    "            try:\n",
    "                if index >= (len(totalContent) / 3):\n",
    "                    break\n",
    "                title = totalContent[3 * index + 1]\n",
    "                link = [preurl + e.get('href') for e in soup.select('#maincontent a')][2*index + 1]\n",
    "                date = totalContent[3 * index]\n",
    "                if compareTo(date, strDate) > 0:\n",
    "                    break\n",
    "                tempDf = {'爬網日期': endDate, '發文日期': date,'標題': title, '內文連結': link}\n",
    "                df = df.append(tempDf, ignore_index = True)\n",
    "                index += 1\n",
    "            except:\n",
    "                logging.error(\"爬取第 %s 頁第 %s 筆主旨發生錯誤\" %(nowPage, index + 1))\n",
    "                traceback.print_exc()\n",
    "        df.index = [i for i in range(df.shape[0])] # reset Index \n",
    "        \n",
    "        if not lastResult.empty:\n",
    "            for index, row in df.iterrows():\n",
    "                if (row['發文日期'] in list(lastResult['發文日期'])) and (row['標題'] in list(lastResult['標題'])):\n",
    "                    df.drop(index, inplace = True)\n",
    "\n",
    "        if len(df) == 0:\n",
    "            logging.critical(\"%s 至 %s 間無資料更新\" %(strDate, endDate))\n",
    "        else:\n",
    "            df.index = [i for i in range(df.shape[0])] # reset \n",
    "            outputCsv(df, \"lastResult\", \"./CrawlList\")\n",
    "    except:\n",
    "        logging.error(\"爬取主旨列表失敗\")\n",
    "        traceback.print_exc()\n",
    "    \n",
    "    return df"
   ]
  },
  {
   "cell_type": "code",
   "execution_count": 44,
   "metadata": {},
   "outputs": [],
   "source": [
    "def request2soup(url):\n",
    "    res = requests.get(url)\n",
    "    res.encoding = 'utf-8'\n",
    "    soup = BeautifulSoup(res.text,'html.parser',from_encoding='utf-8')\n",
    "    return soup"
   ]
  },
  {
   "cell_type": "code",
   "execution_count": 45,
   "metadata": {},
   "outputs": [],
   "source": [
    "def main(url, checkRange = 500):\n",
    "    \n",
    "    logging.critical(\"\\n\")\n",
    "    logging.critical(\"爬網開始......\")\n",
    "    logging.critical(\"目標網址：\" + url)\n",
    "    \n",
    "    strTime = datetime.datetime.now()\n",
    "    logging.critical(\"開始時間：\" + strTime.strftime(\"%Y/%m/%d %H:%M:%S\"))\n",
    "    try:\n",
    "        soup = request2soup(url)\n",
    "        df_1 = parsingTitle(soup, checkRange)\n",
    "        if len(df_1) == 0:\n",
    "            return\n",
    "        outputCsv(df_1, \"第一層結果\", FinalPath)\n",
    "        df_2 = parsingDetail(df_1, FinalPath)\n",
    "        outputCsv(df_2, \"第二層結果\", FinalPath)\n",
    "    except:\n",
    "        logging.error(\"執行爬網作業失敗\")\n",
    "        traceback.print_exc()\n",
    "        \n",
    "    endTime = datetime.datetime.now()\n",
    "    logging.critical(\"結束時間：\" + endTime.strftime(\"%Y/%m/%d %H:%M:%S\"))\n",
    "    logging.critical(\"執行時間：\" + str((endTime - strTime).seconds) + \" 秒\")\n",
    "    logging.critical(\"輸出筆數：\" + str(len(df_1)) + \" 筆\")\n",
    "    logging.critical(\"爬網結束......\")"
   ]
  },
  {
   "cell_type": "code",
   "execution_count": 46,
   "metadata": {},
   "outputs": [
    {
     "name": "stderr",
     "output_type": "stream",
     "text": [
      "2019-01-08 16:58:40,791 - <ipython-input-45-b61afaedb1f0>[line:3] - CRITICAL: \n",
      "\n",
      "2019-01-08 16:58:40,795 - <ipython-input-45-b61afaedb1f0>[line:4] - CRITICAL: 爬網開始......\n",
      "2019-01-08 16:58:40,796 - <ipython-input-45-b61afaedb1f0>[line:5] - CRITICAL: 目標網址：http://www.ba.org.tw/PublicInformation/PublicinfoAll\n",
      "2019-01-08 16:58:40,798 - <ipython-input-45-b61afaedb1f0>[line:8] - CRITICAL: 開始時間：2019/01/08 16:58:40\n",
      "C:\\Users\\Administrator\\Anaconda3\\lib\\site-packages\\bs4\\__init__.py:179: UserWarning: You provided Unicode markup but also provided a value for from_encoding. Your from_encoding will be ignored.\n",
      "  warnings.warn(\"You provided Unicode markup but also provided a value for from_encoding. Your from_encoding will be ignored.\")\n",
      "2019-01-08 16:58:41,364 - <ipython-input-40-273ce45cc822>[line:7] - INFO: 金融機構辦理電子銀行業務安全控管作業基準摘要說明\n",
      "2019-01-08 16:58:42,398 - <ipython-input-38-ce20d61da149>[line:10] - INFO: ./Result/金融機構辦理電子銀行業務安全控管作業基準摘要說明/電子銀行安控基準修訂摘要_1070414.pdf\n",
      "\n",
      "2019-01-08 16:58:44,018 - <ipython-input-40-273ce45cc822>[line:7] - INFO: 金融機構辦理行動金融卡安全控管作業規範摘要說明\n",
      "2019-01-08 16:58:44,429 - <ipython-input-38-ce20d61da149>[line:10] - INFO: ./Result/金融機構辦理行動金融卡安全控管作業規範摘要說明/金融機構辦理行動金融卡安全控管作業規範摘要說明1070314.pdf\n",
      "\n",
      "2019-01-08 16:58:45,659 - <ipython-input-40-273ce45cc822>[line:7] - INFO: 金融機構提供QR Code掃描支付應用安全控管規範摘要說明\n",
      "2019-01-08 16:58:46,157 - <ipython-input-38-ce20d61da149>[line:10] - INFO: ./Result/金融機構提供QR Code掃描支付應用安全控管規範摘要說明/金融機構提供QR Code掃描支付應用安全控管規範摘要說明1070314.pdf\n",
      "\n",
      "2019-01-08 16:58:47,156 - <ipython-input-40-273ce45cc822>[line:7] - INFO: 金融機構提供行動裝置應用程式作業規範摘要說明\n",
      "2019-01-08 16:58:47,562 - <ipython-input-38-ce20d61da149>[line:10] - INFO: ./Result/金融機構提供行動裝置應用程式作業規範摘要說明/金融機構提供行動裝置應用程式作業規範摘要說明1070314.pdf\n",
      "\n",
      "2019-01-08 16:58:48,328 - <ipython-input-45-b61afaedb1f0>[line:22] - CRITICAL: 結束時間：2019/01/08 16:58:48\n",
      "2019-01-08 16:58:48,332 - <ipython-input-45-b61afaedb1f0>[line:23] - CRITICAL: 執行時間：7 秒\n",
      "2019-01-08 16:58:48,333 - <ipython-input-45-b61afaedb1f0>[line:24] - CRITICAL: 輸出筆數：4 筆\n",
      "2019-01-08 16:58:48,336 - <ipython-input-45-b61afaedb1f0>[line:25] - CRITICAL: 爬網結束......\n"
     ]
    }
   ],
   "source": [
    "if __name__ == \"__main__\":\n",
    "    url = \"http://www.ba.org.tw/PublicInformation/PublicinfoAll\"\n",
    "    main(url)"
   ]
  },
  {
   "cell_type": "code",
   "execution_count": 6,
   "metadata": {},
   "outputs": [
    {
     "name": "stderr",
     "output_type": "stream",
     "text": [
      "C:\\Users\\Administrator\\Anaconda3\\lib\\site-packages\\bs4\\__init__.py:179: UserWarning: You provided Unicode markup but also provided a value for from_encoding. Your from_encoding will be ignored.\n",
      "  warnings.warn(\"You provided Unicode markup but also provided a value for from_encoding. Your from_encoding will be ignored.\")\n"
     ]
    },
    {
     "data": {
      "text/plain": [
       "['2018/04/19',\n",
       " '金融機構辦理電子銀行業務安全控管作業基準摘要說明',\n",
       " '\\n\\n',\n",
       " '2018/03/14',\n",
       " '金融機構辦理行動金融卡安全控管作業規範摘要說明',\n",
       " '\\n\\n',\n",
       " '2018/03/14',\n",
       " '金融機構提供QR Code掃描支付應用安全控管規範摘要說明',\n",
       " '\\n\\n',\n",
       " '2018/03/14',\n",
       " '金融機構提供行動裝置應用程式作業規範摘要說明',\n",
       " '\\n\\n']"
      ]
     },
     "execution_count": 6,
     "metadata": {},
     "output_type": "execute_result"
    }
   ],
   "source": [
    "url = 'https://www.ba.org.tw/PublicInformation/PublicinfoAll'\n",
    "soup = request2soup(url)\n",
    "\n",
    "[e.text for e in soup.select('td')]\n",
    "# https://www.ba.org.tw/PublicInformation/Detail/2695?enumtype=ImportantnormType&type=99537959-bc87-4d24-bcb7-83c8e7767e65"
   ]
  }
 ],
 "metadata": {
  "kernelspec": {
   "display_name": "Python 3",
   "language": "python",
   "name": "python3"
  },
  "language_info": {
   "codemirror_mode": {
    "name": "ipython",
    "version": 3
   },
   "file_extension": ".py",
   "mimetype": "text/x-python",
   "name": "python",
   "nbconvert_exporter": "python",
   "pygments_lexer": "ipython3",
   "version": "3.7.0"
  }
 },
 "nbformat": 4,
 "nbformat_minor": 2
}
