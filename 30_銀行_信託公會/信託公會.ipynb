{
 "cells": [
  {
   "cell_type": "raw",
   "metadata": {},
   "source": [
    "'''\n",
    "Project Name: rootlaw project\n",
    "Crawl Cycle: Daily\n",
    "Main Website: http://www.trust.org.tw/home/WebNewsList.asp?pno=56\n",
    "author      : 林德昌\n",
    "date        : 2018/12/17\n",
    "description : 爬取每日最新消息\n",
    "'''"
   ]
  },
  {
   "cell_type": "code",
   "execution_count": 62,
   "metadata": {},
   "outputs": [],
   "source": [
    "import requests\n",
    "from bs4 import BeautifulSoup\n",
    "import pandas as pd\n",
    "import header\n",
    "import logging\n",
    "import re\n",
    "import datetime\n",
    "import traceback # 印log\n",
    "import os\n",
    "TempPath = \"./Temp\"  # browser file\n",
    "FinalPath = \"./Result\" # project file\n",
    "lastResultPath = \"./CrawlList/lastResult.csv\""
   ]
  },
  {
   "cell_type": "code",
   "execution_count": 63,
   "metadata": {},
   "outputs": [],
   "source": [
    "def downloadFile(finalPath, title, fileUrls, fileNames): # for download pdf or doc\n",
    "    target = finalPath + '/' + title[:30].strip()\n",
    "    # 若目錄不存在，建立目錄\n",
    "    if not os.path.isdir(target):\n",
    "        os.makedirs(target)\n",
    "    for file_url, fileName in zip(fileUrls, fileNames):\n",
    "        try:\n",
    "            logging.info(fileName.strip())\n",
    "            response = requests.get(file_url, stream=\"TRUE\")\n",
    "            downloadFile = target + '/' + fileName.strip() + os.path.splitext(file_url)[-1]# 放置資料夾路徑 + 檔名 + 副檔名\n",
    "            logging.info(downloadFile)\n",
    "            with open(downloadFile,'wb') as file:\n",
    "                for data in response.iter_content():\n",
    "                    file.write(data)\n",
    "        except:\n",
    "            logging.error(\"爬取檔案失敗\")\n",
    "            logging.error(\"失敗連結：\" + file_url)\n",
    "            logging.error('title:' + title)\n"
   ]
  },
  {
   "cell_type": "code",
   "execution_count": 64,
   "metadata": {},
   "outputs": [],
   "source": [
    "def dataProcess_Detail(soup, row):\n",
    "    totalContent = [e.text for e in soup.select('.content .content div')][0]\n",
    "    serno = re.findall(r'發文字號.+?\\d+.?', totalContent)\n",
    "    result = dict()\n",
    "    if not bool(serno):\n",
    "        return result\n",
    "    fileUrlRoot = 'http://www.trust.org.tw'\n",
    "    result['fileUrls'] = [re.sub('\\.\\.',fileUrlRoot,e.get('href')) for e in soup.select('.content .content .content a')]\n",
    "    result['fileNames'] = [e.text for e in soup.select('.content .content b')]\n",
    "    result['content'] = re.sub('[\\s|\\n]', '', re.findall(r'說明：\\s[\\S|\\n|\\xa0]+正本', totalContent)[0][3:-2])\n",
    "    result['abstract'] = re.sub('\\xa0 ', ' ', re.findall(r'主旨：.+', totalContent)[0])[3:]\n",
    "    result['serno'] = re.findall(r'發文字號.+?\\d+.?', totalContent)[0][5:]\n",
    "    result['issue_date'] = re.findall(r'發文日期.+?日', totalContent)[0][5:]\n",
    "    return result"
   ]
  },
  {
   "cell_type": "code",
   "execution_count": 65,
   "metadata": {},
   "outputs": [],
   "source": [
    "def parsingDetail(df, finalPath): \n",
    "    df2 = pd.DataFrame(columns = [\"標題\", \"全文內容\", \"附件\", \"發文字號\", \"發文日期\", \"相關法條\"])\n",
    "    for index, row in df.iterrows():\n",
    "        try:\n",
    "            title = row['標題']\n",
    "            link = row['內文連結']\n",
    "            logging.info(title)\n",
    "            soup = request2soup(link)\n",
    "            result = dataProcess_Detail(soup, row)\n",
    "            if not bool(result):\n",
    "                continue\n",
    "            fileNames = result['fileNames'] \n",
    "            if len(fileNames) != 0:\n",
    "                downloadFile(finalPath, title, result['fileUrls'], fileNames)\n",
    "            d = {'標題': title, '全文內容': result['content'], '附件':','.join(fileNames), '發文字號':result['serno'], \n",
    "                 '發文日期':result['issue_date'], '相關法條':''}\n",
    "            df2= df2.append(d, ignore_index=True)\n",
    "        except:\n",
    "            logging.error(\"爬取內文失敗\\n\")\n",
    "            logging.error(\"失敗連結：\" + link+ '\\n')\n",
    "            traceback.print_exc()\n",
    "    return df2"
   ]
  },
  {
   "cell_type": "code",
   "execution_count": 66,
   "metadata": {},
   "outputs": [],
   "source": [
    "def outputCsv(df, fileName, path):\n",
    "    # 若目錄不存在，建立目錄\n",
    "    if not os.path.isdir(path):\n",
    "        os.mkdir(path)\n",
    "    df.to_csv(path + \"/\" + fileName + \".csv\", index = False, encoding = \"utf_8_sig\")"
   ]
  },
  {
   "cell_type": "code",
   "execution_count": 67,
   "metadata": {},
   "outputs": [],
   "source": [
    "def compareTo(strDate, endDate):\n",
    "    if int(re.split(r'(/|-|\\.)', strDate)[0]) < 1911:\n",
    "        strDate = datetime.datetime.strptime(str(int(re.sub(r'(/|-|\\.)', '', strDate)) + 19110000), \"%Y%m%d\").strftime(\"%Y-%m-%d\")\n",
    "    if int(re.split(r'(/|-|\\.)', endDate)[0]) < 1911:\n",
    "        endDate = datetime.datetime.strptime(str(int(re.sub(r'(/|-|\\.)', '', endDate)) + 19110000), \"%Y%m%d\").strftime(\"%Y-%m-%d\")\n",
    "    try:\n",
    "        strDate = datetime.datetime.strptime(strDate, \"%Y-%m-%d\")\n",
    "        endDate = datetime.datetime.strptime(endDate, \"%Y-%m-%d\")\n",
    "\n",
    "    except:\n",
    "        logging.error('compareTo(strDate, endDate):')\n",
    "        logging.error(\"日期格式錯誤：strDate = %s, endDate = %s\" %(strDate, endDate))\n",
    "        return\n",
    "    if strDate < endDate:\n",
    "        return 1\n",
    "    elif strDate == endDate:\n",
    "        return 0\n",
    "    else:\n",
    "        return -1\n"
   ]
  },
  {
   "cell_type": "code",
   "execution_count": 68,
   "metadata": {},
   "outputs": [],
   "source": [
    "def dataProcess_Title(soup, strDate):\n",
    "    result = dict()\n",
    "    titles_result = []\n",
    "    dates = []\n",
    "    links = []\n",
    "    end = False\n",
    "    nowPage = 1\n",
    "    try:\n",
    "        titles = [str(e.get('title')) for e in soup.select('.content-link')]\n",
    "        datelist = []\n",
    "        for e in soup.select('.content-2')[:-2]:\n",
    "            if re.findall(r'\\d+\\/\\d+\\/\\d+', e.text):\n",
    "                datelist.append(e.text)\n",
    "        for index in range(len(titles)):\n",
    "            try:\n",
    "                title = titles[index]\n",
    "                date = datelist[index]\n",
    "                if compareTo(date, strDate) > 0:\n",
    "                    end = True\n",
    "                    break\n",
    "                link = re.sub('\\.\\.','http://www.trust.org.tw', soup.select('.content-link')[index].get('href'))\n",
    "                titles_result.append(title)\n",
    "                dates.append(date)\n",
    "                links.append(link)\n",
    "            except:\n",
    "                logging.error(\"爬取第 %s 頁第 %s 筆主旨發生錯誤\" %(nowPage, index + 1))\n",
    "    except:\n",
    "        logging.error(\"爬取第 %s 頁主旨發生錯誤\" %(nowPage))\n",
    "        traceback.print_exc()\n",
    "        \n",
    "    result['titles_result'] = titles_result\n",
    "    result['dates'] = dates\n",
    "    result['links'] = links\n",
    "    return result"
   ]
  },
  {
   "cell_type": "code",
   "execution_count": 69,
   "metadata": {},
   "outputs": [],
   "source": [
    "def parsingTitle(soup, checkRange):\n",
    "    \n",
    "    try:\n",
    "        # 取得上次爬網結果\n",
    "        if os.path.isfile(lastResultPath):\n",
    "            lastResult = pd.read_csv(lastResultPath)\n",
    "        else:\n",
    "            lastResult = pd.DataFrame()\n",
    "            \n",
    "        endDate = datetime.date.today()\n",
    "        strDate = (endDate - datetime.timedelta(days = checkRange)).isoformat()\n",
    "        df = pd.DataFrame(columns=['爬網日期','發文日期','標題','內文連結'])\n",
    "        \n",
    "         # 資料處理\n",
    "        result = dataProcess_Title(soup, strDate)   \n",
    "        d = {'爬網日期':endDate,'發文日期': result['dates'], '標題': result['titles_result'], '內文連結': result['links']}\n",
    "        df = df.append(pd.DataFrame(data=d))\n",
    "        # 若與上次發文日期和標題相同，則跳至下一筆\n",
    "        if not lastResult.empty:\n",
    "            for index, row in df.iterrows():\n",
    "                if (row['發文日期'] in list(lastResult['發文日期'])) and (row['標題'] in list(lastResult['標題'])):\n",
    "                    df.drop(index, inplace = True)\n",
    "\n",
    "        if len(df) == 0:\n",
    "            logging.critical(\"%s 至 %s 間無資料更新\" %(strDate, endDate))\n",
    "        else:\n",
    "            df.index = [i for i in range(df.shape[0])] # reset\n",
    "            outputCsv(df, \"lastResult\", \"./CrawlList\")\n",
    "\n",
    "    except:\n",
    "        logging.error(\"爬取主旨列表失敗\")\n",
    "        traceback.print_exc()\n",
    "    \n",
    "    return df\n"
   ]
  },
  {
   "cell_type": "code",
   "execution_count": 70,
   "metadata": {},
   "outputs": [],
   "source": [
    "def request2soup(url):\n",
    "    res = requests.get(url)\n",
    "    res.encoding = 'big5'\n",
    "    soup = BeautifulSoup(res.text,'html.parser',from_encoding='utf-8')\n",
    "    return soup"
   ]
  },
  {
   "cell_type": "code",
   "execution_count": 71,
   "metadata": {},
   "outputs": [],
   "source": [
    "def main(url, checkRange = 50):\n",
    "    \n",
    "    logging.critical(\"\\n\")\n",
    "    logging.critical(\"爬網開始......\")\n",
    "    logging.critical(\"目標網址：\" + url)\n",
    "    \n",
    "    strTime = datetime.datetime.now()\n",
    "    logging.critical(\"開始時間：\" + strTime.strftime(\"%Y/%m/%d %H:%M:%S\"))\n",
    "    \n",
    "    try:\n",
    "        soup = request2soup(url)\n",
    "        df_1 = parsingTitle(soup, checkRange)\n",
    "        if len(df_1) == 0:\n",
    "            return\n",
    "        outputCsv(df_1, \"第一層結果\", FinalPath)\n",
    "\n",
    "        df_2 = parsingDetail(df_1, FinalPath)\n",
    "        outputCsv(df_2, \"第二層結果\", FinalPath)\n",
    "    except:\n",
    "        logging.error(\"執行爬網作業失敗\")\n",
    "        traceback.print_exc()\n",
    "    \n",
    "    endTime = datetime.datetime.now()\n",
    "    logging.critical(\"結束時間：\" + endTime.strftime(\"%Y/%m/%d %H:%M:%S\"))\n",
    "    logging.critical(\"執行時間：\" + str((endTime - strTime).seconds) + \" 秒\")\n",
    "    logging.critical(\"輸出筆數：\" + str(len(df_1)) + \" 筆\")\n",
    "    logging.critical(\"爬網結束......\")"
   ]
  },
  {
   "cell_type": "code",
   "execution_count": 72,
   "metadata": {},
   "outputs": [
    {
     "name": "stderr",
     "output_type": "stream",
     "text": [
      "2019-01-08 18:42:19,616 - <ipython-input-71-720735837095>[line:3] - CRITICAL: \n",
      "\n",
      "2019-01-08 18:42:19,620 - <ipython-input-71-720735837095>[line:4] - CRITICAL: 爬網開始......\n",
      "2019-01-08 18:42:19,622 - <ipython-input-71-720735837095>[line:5] - CRITICAL: 目標網址：http://www.trust.org.tw/home/webnewslist.asp?pno=56\n",
      "2019-01-08 18:42:19,627 - <ipython-input-71-720735837095>[line:8] - CRITICAL: 開始時間：2019/01/08 18:42:19\n",
      "C:\\Users\\Administrator\\Anaconda3\\lib\\site-packages\\bs4\\__init__.py:179: UserWarning: You provided Unicode markup but also provided a value for from_encoding. Your from_encoding will be ignored.\n",
      "  warnings.warn(\"You provided Unicode markup but also provided a value for from_encoding. Your from_encoding will be ignored.\")\n",
      "2019-01-08 18:42:19,926 - <ipython-input-65-0be81b12639c>[line:7] - INFO: 金管會修正「信託業辦理高齡者及身心障礙者財產信託評鑑及獎勵措施」，並自108年1月1日起之評鑑期間適用。\n",
      "2019-01-08 18:42:20,505 - <ipython-input-63-65fb468c6f51>[line:8] - INFO: 信託業辦理高齡者及身心障礙者財產信託評鑑及獎勵措施\n"
     ]
    },
    {
     "name": "stdout",
     "output_type": "stream",
     "text": [
      "['信託業辦理高齡者及身心障礙者財產信託評鑑及獎勵措施', '「信託業辦理高齡者及身心障礙者財產信託評鑑及獎勵措施」修正條文對照表']\n",
      "['http://www.trust.org.tw/files/107B40430901.pdf', 'http://www.trust.org.tw/files/107B40430902.pdf']\n"
     ]
    },
    {
     "name": "stderr",
     "output_type": "stream",
     "text": [
      "2019-01-08 18:42:20,742 - <ipython-input-63-65fb468c6f51>[line:11] - INFO: ./Result/金管會修正「信託業辦理高齡者及身心障礙者財產信託評鑑及獎勵措/信託業辦理高齡者及身心障礙者財產信託評鑑及獎勵措施.pdf\n",
      "2019-01-08 18:42:22,230 - <ipython-input-63-65fb468c6f51>[line:8] - INFO: 「信託業辦理高齡者及身心障礙者財產信託評鑑及獎勵措施」修正條文對照表\n",
      "2019-01-08 18:42:22,292 - <ipython-input-63-65fb468c6f51>[line:11] - INFO: ./Result/金管會修正「信託業辦理高齡者及身心障礙者財產信託評鑑及獎勵措/「信託業辦理高齡者及身心障礙者財產信託評鑑及獎勵措施」修正條文對照表.pdf\n",
      "2019-01-08 18:42:23,975 - <ipython-input-65-0be81b12639c>[line:7] - INFO: 民國108年度信託業業務人員訓練課程。\n",
      "2019-01-08 18:42:24,340 - <ipython-input-63-65fb468c6f51>[line:8] - INFO: 「信託業業務人員職前訓練課程」說明書\n",
      "2019-01-08 18:42:24,390 - <ipython-input-63-65fb468c6f51>[line:11] - INFO: ./Result/民國108年度信託業業務人員訓練課程。/「信託業業務人員職前訓練課程」說明書.pdf\n"
     ]
    },
    {
     "name": "stdout",
     "output_type": "stream",
     "text": [
      "['「信託業業務人員職前訓練課程」說明書', '「信託業業務人員在職訓練課程」說明書']\n",
      "['http://www.trust.org.tw/files/0000686A0001 .pdf', 'http://www.trust.org.tw/files/0000686A0002.pdf']\n"
     ]
    },
    {
     "name": "stderr",
     "output_type": "stream",
     "text": [
      "2019-01-08 18:42:27,896 - <ipython-input-63-65fb468c6f51>[line:8] - INFO: 「信託業業務人員在職訓練課程」說明書\n",
      "2019-01-08 18:42:28,241 - <ipython-input-63-65fb468c6f51>[line:11] - INFO: ./Result/民國108年度信託業業務人員訓練課程。/「信託業業務人員在職訓練課程」說明書.pdf\n",
      "2019-01-08 18:42:31,913 - <ipython-input-71-720735837095>[line:24] - CRITICAL: 結束時間：2019/01/08 18:42:31\n",
      "2019-01-08 18:42:31,915 - <ipython-input-71-720735837095>[line:25] - CRITICAL: 執行時間：12 秒\n",
      "2019-01-08 18:42:31,918 - <ipython-input-71-720735837095>[line:26] - CRITICAL: 輸出筆數：2 筆\n",
      "2019-01-08 18:42:31,922 - <ipython-input-71-720735837095>[line:27] - CRITICAL: 爬網結束......\n"
     ]
    }
   ],
   "source": [
    "if __name__ == \"__main__\":\n",
    "    url = 'http://www.trust.org.tw/home/webnewslist.asp?pno=56'\n",
    "    main(url)\n"
   ]
  }
 ],
 "metadata": {
  "kernelspec": {
   "display_name": "Python 3",
   "language": "python",
   "name": "python3"
  },
  "language_info": {
   "codemirror_mode": {
    "name": "ipython",
    "version": 3
   },
   "file_extension": ".py",
   "mimetype": "text/x-python",
   "name": "python",
   "nbconvert_exporter": "python",
   "pygments_lexer": "ipython3",
   "version": "3.7.0"
  }
 },
 "nbformat": 4,
 "nbformat_minor": 2
}
