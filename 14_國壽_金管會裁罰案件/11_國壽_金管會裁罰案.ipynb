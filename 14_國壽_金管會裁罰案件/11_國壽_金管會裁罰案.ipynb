{
 "cells": [
  {
   "cell_type": "raw",
   "metadata": {},
   "source": [
    "'''\n",
    "Project Name: 金管會裁罰案件\n",
    "CTM Name    : \n",
    "Crawl Cycle : Daily\n",
    "Main Website: https://www.fsc.gov.tw/ch/home.jsp?id=131&parentpath=0,2\n",
    "Description : 針對金管會裁罰案件，每日取得最新法規異動資訊\n",
    "Author      : 謝子嫣\n",
    "Update Date : 2019.01.23\n",
    "'''"
   ]
  },
  {
   "cell_type": "code",
   "execution_count": 1,
   "metadata": {},
   "outputs": [],
   "source": [
    "import header\n",
    "import logging\n",
    "\n",
    "import datetime\n",
    "import pandas as pd\n",
    "import traceback\n",
    "from bs4 import BeautifulSoup\n",
    "\n",
    "import os\n",
    "import requests\n",
    "import re"
   ]
  },
  {
   "cell_type": "code",
   "execution_count": 2,
   "metadata": {},
   "outputs": [],
   "source": [
    "def getResult(findall, STR_NUM):\n",
    "    if findall != []:\n",
    "        result = findall[0][STR_NUM:-1]\n",
    "    else:\n",
    "        result = \"\"\n",
    "    return result"
   ]
  },
  {
   "cell_type": "code",
   "execution_count": 3,
   "metadata": {},
   "outputs": [],
   "source": [
    "def dataProcess_Detail(soup):\n",
    "    result = dict()\n",
    "    # 主旨\n",
    "    result['title'] = [ e.text for e in soup.select(\"#maincontent h3\") ][0]\n",
    "    # 內容\n",
    "    result['content'] = [header.spaceAndWrapProcess(e.text) for e in soup.select('.page_content')][0]\n",
    "    # 附件\n",
    "    result['FILES'] = [e.get(\"title\").replace(\"(開啟新視窗)\", \"\") for e in soup.select('.acces a')]\n",
    "    FILES_NM = [os.path.splitext(ele)[0][:30] + os.path.splitext(ele)[1] for ele in result['FILES']]\n",
    "    result['FILES_NM'] = header.processDuplicateFiles(FILES_NM)\n",
    "    \n",
    "    logging.info(result['FILES_NM'])\n",
    "    result['fileUrls'] = [ \"https://www.ib.gov.tw\" + e.get('href') for e in soup.select('.acces a') ]\n",
    "    str_content = str(soup.select('.page_content')[0])\n",
    "    # 發文字號\n",
    "    result['serno'] = getResult(re.findall(r'發文字號.+?<', str_content), 5)\n",
    "    # 發文日期\n",
    "    result['issue_date'] = getResult(re.findall(r'發文日期.+?<', str_content), 5)\n",
    "    # 相關法條\n",
    "    result['RLT_RGL'] = getResult(re.findall(r'依據.+?<', str_content), 3)\n",
    "\n",
    "    return result"
   ]
  },
  {
   "cell_type": "code",
   "execution_count": 4,
   "metadata": {},
   "outputs": [],
   "source": [
    "def parsingDetail(df):\n",
    "\n",
    "    df_detail = pd.DataFrame(columns = [\"ISS_DATE\", \"TITL\", \"ISS_CTNT\", \"ISS_NO\", \"RLT_RGL\", \"FILES\",\n",
    "                                        \"FOLDER_NM\", \"FILES_NM\"])#[2019.01.24]新增欄位(截斷後的資料夾名稱及檔名\n",
    "    for index, row in df.iterrows():\n",
    "        try:\n",
    "            first_layer_date = row['ISS_DATE']\n",
    "            link = row['LNK_URL']\n",
    "            soup = request2soup(link)\n",
    "            \n",
    "            result = dataProcess_Detail(soup)\n",
    "            title = result['title']#[2019.02.11]不能取第一層title,會有...\n",
    "            FILES = result['FILES'] \n",
    "            FILES_NM = result['FILES_NM']\n",
    "            FOLDER_NM = ''\n",
    "            if len(FILES_NM) != 0:\n",
    "                first_layer_date = re.sub(r'(/|-|\\.)', '-', first_layer_date)\n",
    "                FOLDER_NM = first_layer_date + '_' + title[:30].strip() + '_' + str(index) # 有附檔才會有資料夾名稱\n",
    "                header.downloadFile(FOLDER_NM, header.FINAL_PATH, result['fileUrls'], FILES_NM)#[2019.02.11]抽共用\n",
    "            \n",
    "            d = {'ISS_DATE':result['issue_date'], 'TITL': title, 'ISS_CTNT': result['content'], \n",
    "                 'ISS_NO':result['serno'], 'RLT_RGL':result['RLT_RGL'], 'FILES':','.join(FILES), \n",
    "                 'FOLDER_NM': FOLDER_NM, 'FILES_NM':','.join(FILES_NM)}\n",
    "            \n",
    "            df_detail= df_detail.append(d, ignore_index=True)\n",
    "    \n",
    "        except:\n",
    "            header.EXIT_CODE = -1   #[2019.02.01] 爬取內文發生錯誤則重爬\n",
    "            logging.error(\"爬取內文失敗\")\n",
    "            logging.error(\"失敗連結：\" + link)\n",
    "            traceback.print_exc()\n",
    "    \n",
    "    return df_detail\n",
    "    "
   ]
  },
  {
   "cell_type": "code",
   "execution_count": 8,
   "metadata": {
    "collapsed": true
   },
   "outputs": [],
   "source": [
    "def parsingTitle(soup, checkRange):\n",
    "    try:\n",
    "        # 取得上次爬網結果\n",
    "        lastResultPath = header.LAST_RESULT_PATH # +\"/lastResult.csv\"#[2019.02.11]\n",
    "        if os.path.isfile(lastResultPath):\n",
    "            lastResult = pd.read_csv(lastResultPath)\n",
    "        else:\n",
    "            lastResult = pd.DataFrame()\n",
    "        header.lastResult = lastResult #[2019.02.11]新增全域變數\n",
    "        \n",
    "        # 爬網日期區間為一個禮拜\n",
    "        endDate = datetime.date.today()\n",
    "        strDate = (endDate - datetime.timedelta(days = checkRange)).isoformat()\n",
    "        \n",
    "        totalPage = soup.select(\".page\")[0].text.split(\"/\")[1] # 總頁數\n",
    "        ending = False\n",
    "        \n",
    "        df = pd.DataFrame(columns = [\"WEB_ADDR\", \"CRL_DATE\", \"ISS_DATE\", \"TITL\", \"LNK_URL\"])\n",
    "\n",
    "        for i in range(int(totalPage)):\n",
    "            if (i != 0):\n",
    "                soup = request2soup(url, i + 1)\n",
    "\n",
    "            try:\n",
    "                sorts = soup.select(\".sort1\")\n",
    "                sorts = [x.text.strip() for x in sorts]\n",
    "                \n",
    "                dates = soup.select(\".pdate1\")\n",
    "                dates = [x.text.strip() for x in dates]\n",
    "\n",
    "                sources = soup.select(\".souse1\")\n",
    "                sources = [x.text.strip() for x in sources] \n",
    "\n",
    "                titles = soup.select(\".ptitle1\")\n",
    "                titles = [x.text.strip() for x in titles] \n",
    "\n",
    "                links = soup.select(\".ptitle1 a\")\n",
    "                links = [\"https://www.fsc.gov.tw/ch/\" + x.get(\"href\") for x in links]\n",
    "\n",
    "                idx = pd.Series([False] * len(dates))\n",
    "                for j in range(len(dates)):\n",
    "                    date = dates[j]\n",
    "                    if date < strDate: # 若發文日期小於開始日期, 則結束爬取主旨\n",
    "                        ending = True\n",
    "                        break\n",
    "                    idx[j] = True\n",
    "                \n",
    "                d = {\"WEB_ADDR\" : url, \"CRL_DATE\" : endDate, \"ISS_DATE\" : dates, \"TITL\" : titles, \"LNK_URL\" : links}\n",
    "                df = df.append(pd.DataFrame(data = d)[idx])  # append page\n",
    "\n",
    "                # 若結束爬取主旨, 停止爬取剩下的 pages\n",
    "                if ending:\n",
    "                    break\n",
    "            except:\n",
    "                header.EXIT_CODE = -1   #[2019.02.01] 爬取任一頁主旨發生錯誤則重爬\n",
    "                logging.error(\"爬取第 %s 頁主旨發生錯誤\" %str(i + 1))\n",
    "                traceback.print_exc()\n",
    "\n",
    "        df.index = [i for i in range(df.shape[0])] # reset Index \n",
    "        #header.outputCsv(df, \"lastResult\", header.LAST_RESULT_PATH)#[2019.02.11]刪除,以抽於outputLastResult共用\n",
    "\n",
    "        if not lastResult.empty:\n",
    "            # 若與上次發文日期和標題相同，則跳至下一筆\n",
    "            for index, row in df.iterrows():#[2019.02.11]\n",
    "                if (row['ISS_DATE'] in list(lastResult['ISS_DATE'])) and (row['TITL'] in list(lastResult['TITL'])):\n",
    "                    df.drop(index, inplace = True)\n",
    "            \n",
    "        if len(df) == 0:\n",
    "            logging.critical(\"%s 至 %s 間無資料更新\" %(strDate, endDate))\n",
    "        else:\n",
    "            df.index = [i for i in range(df.shape[0])] # reset \n",
    "\n",
    "        return df\n",
    "    \n",
    "    except:\n",
    "        print(\"爬取主旨列表失敗\")\n",
    "        logging.error(\"爬取主旨列表失敗\")\n",
    "        traceback.print_exc()\n",
    "        return pd.DataFrame(columns = [\"WEB_ADDR\", \"CRL_DATE\", \"ISS_DATE\", \"TITL\", \"LNK_URL\"])\n",
    "  "
   ]
  },
  {
   "cell_type": "code",
   "execution_count": 9,
   "metadata": {
    "collapsed": true
   },
   "outputs": [],
   "source": [
    "def request2soup(url, page = None):\n",
    "    if page is None:\n",
    "        res = requests.get(url)\n",
    "    else:\n",
    "        formData = {\"id\"         : \"131\", \n",
    "                    \"contentid\"  : \"131\", \n",
    "                    \"parentpath\" : \"0,2\", \n",
    "                    \"mcustomize\" : \"multimessages_list.jsp\", \n",
    "                    \"keyword\"    : \"請輸入查詢關鍵字\", \n",
    "                    \"page\"       : page}\n",
    "        res = requests.post(url, data = formData)\n",
    "        \n",
    "    res.encoding = \"utf-8\"\n",
    "    soup = BeautifulSoup(res.text, \"html.parser\", from_encoding = \"utf-8\")\n",
    "    return soup"
   ]
  },
  {
   "cell_type": "code",
   "execution_count": 10,
   "metadata": {},
   "outputs": [],
   "source": [
    "def main(url, checkRange = 30):\n",
    "    header.processBegin(url = url)\n",
    "    header.clearFolder()#[2019.02.11]\n",
    "\n",
    "    try:\n",
    "        soup = request2soup(url, 1)\n",
    "        \n",
    "        df_1 = parsingTitle(soup, checkRange)\n",
    "        if len(df_1) != 0:\n",
    "            header.outputCsv(df_1, \"第一層結果\")\n",
    "        \n",
    "            df_2 = parsingDetail(df_1)\n",
    "            header.outputCsv(df_2, \"第二層結果\")\n",
    "            header.RESULT_COUNT = len(df_2)\n",
    "        header.zipFile()\n",
    "        header.createInfoFile()\n",
    "        header.createOKFile()\n",
    "        header.outputLastResult(df_1, header.lastResult, checkRange)   #[2019.02.11]新增產出lastResult方法\n",
    "    except:\n",
    "        logging.error(\"執行爬網作業失敗\")\n",
    "        traceback.print_exc()\n",
    "        header.createInfoFile()\n",
    "    \n",
    "    header.processEnd()"
   ]
  },
  {
   "cell_type": "code",
   "execution_count": 11,
   "metadata": {},
   "outputs": [
    {
     "name": "stdout",
     "output_type": "stream",
     "text": [
      "20190213170826\n"
     ]
    }
   ],
   "source": [
    "print(header.TIMELABEL)\n",
    "logging.fatal(\"FINAL_PATH:\"+ header.FINAL_PATH)\n",
    "url = \"https://www.fsc.gov.tw/ch/home.jsp?id=131&parentpath=0,2\""
   ]
  },
  {
   "cell_type": "code",
   "execution_count": 12,
   "metadata": {},
   "outputs": [
    {
     "name": "stderr",
     "output_type": "stream",
     "text": [
      "D:\\00_yen\\lib\\site-packages\\bs4\\__init__.py:179: UserWarning: You provided Unicode markup but also provided a value for from_encoding. Your from_encoding will be ignored.\n",
      "  warnings.warn(\"You provided Unicode markup but also provided a value for from_encoding. Your from_encoding will be ignored.\")\n",
      "C:\\Users\\Administrator.Cathay-PC\\Desktop\\新增資料夾\\Web_Crawler\\11_國壽_金管會裁罰案件\\header.py:155: FutureWarning: Comparing Series of datetimes with 'datetime.date'.  Currently, the\n",
      "'datetime.date' is coerced to a datetime. In the future pandas will\n",
      "not coerce, and a TypeError will be raised. To retain the current\n",
      "behavior, convert the 'datetime.date' to a datetime with\n",
      "'pd.Timestamp'.\n",
      "  lastResult = lastResult[pd.to_datetime(lastResult['CRL_DATE']) >= (datetime.date.today() - datetime.timedelta(days=checkRange))]\n"
     ]
    }
   ],
   "source": [
    "main(url)"
   ]
  },
  {
   "cell_type": "code",
   "execution_count": null,
   "metadata": {},
   "outputs": [],
   "source": []
  },
  {
   "cell_type": "code",
   "execution_count": null,
   "metadata": {},
   "outputs": [],
   "source": []
  }
 ],
 "metadata": {
  "kernelspec": {
   "display_name": "Python 3",
   "language": "python",
   "name": "python3"
  },
  "language_info": {
   "codemirror_mode": {
    "name": "ipython",
    "version": 3
   },
   "file_extension": ".py",
   "mimetype": "text/x-python",
   "name": "python",
   "nbconvert_exporter": "python",
   "pygments_lexer": "ipython3",
   "version": "3.7.0"
  }
 },
 "nbformat": 4,
 "nbformat_minor": 2
}
