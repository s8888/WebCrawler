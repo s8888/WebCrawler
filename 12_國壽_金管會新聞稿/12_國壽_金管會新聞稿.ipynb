{
 "cells": [
  {
   "cell_type": "raw",
   "metadata": {},
   "source": [
    "'''\n",
    "Project Name: 金管會新聞稿\n",
    "CTM Name    : \n",
    "Crawl Cycle : Daily\n",
    "Main Website: https://www.fsc.gov.tw/ch/home.jsp?id=96&parentpath=0,2\n",
    "Description : 針對金管會-公告資訊-新聞稿，每日取得新聞稿\n",
    "Author      : 謝子嫣\n",
    "Update Date : 2019.01.23\n",
    "'''"
   ]
  },
  {
   "cell_type": "code",
   "execution_count": 1,
   "metadata": {},
   "outputs": [],
   "source": [
    "import header\n",
    "import logging\n",
    "\n",
    "import datetime\n",
    "import pandas as pd\n",
    "import traceback\n",
    "from bs4 import BeautifulSoup\n",
    "\n",
    "import os\n",
    "import requests"
   ]
  },
  {
   "cell_type": "code",
   "execution_count": 2,
   "metadata": {},
   "outputs": [],
   "source": [
    "def parsingDetail(df):\n",
    "    df_detail = pd.DataFrame(columns = [\"ISS_DATE\", \"TITL\", \"ISS_CTNT\", \"ISS_NO\", \"RLT_RGL\", \"FILES\",\n",
    "                                        \"FOLDER_NM\", \"FILES_NM\"])\n",
    "    for link in df.LNK_URL:\n",
    "        try:\n",
    "            soup = request2soup(link)\n",
    "            # 主旨\n",
    "            title = soup.select(\"#maincontent h3\")[0]\n",
    "            # 內容\n",
    "            content = soup.select(\".page_content\")[0]\n",
    "            # 附件\n",
    "            attachments = soup.select(\".acces a\") # n 個附件            \n",
    "            tmpFILES_NM =[]\n",
    "            # 附件\n",
    "            if len(attachments) != 0:          \n",
    "                # 建立資料夾\n",
    "                target = header.FINAL_PATH + \"/\" + title.text[:30]              \n",
    "                # 若目錄不存在, 建立目錄\n",
    "                if not os.path.isdir(target):\n",
    "                    os.mkdir(target)\n",
    "                \n",
    "                lastFileName = \"\" #上一次檔名(因截短後當名相同)    \n",
    "                for attach in attachments:\n",
    "                    fileLink = \"https://www.fsc.gov.tw\" + attach.get(\"href\")\n",
    "                    # 下載附件\n",
    "                    response = requests.get(fileLink, stream = \"TRUE\")\n",
    "                    fileName = attach.get(\"title\").replace(\"(開啟新視窗)\", \"\")\n",
    "                    endLoc = fileName.rfind(\".\") # 檔名結尾位置\n",
    "                    extName = fileName[endLoc:]  # 副檔名\n",
    "                    fileName = fileName[:endLoc] # 檔名\n",
    "                    fileName = fileName[:30]     # 截短檔名\n",
    "                    if fileName == lastFileName:\n",
    "                        fileName = fileName[:30] + str((indext+1))\n",
    "                    tmpFILES_NM.append(fileName + extName) #截短後檔名+副檔名\n",
    "                    lastFileName = fileName\n",
    "                    \n",
    "                    with open(target + \"/\" + fileName + extName, \"wb\") as file:\n",
    "                        for data in response.iter_content():\n",
    "                            file.write(data)\n",
    "            \n",
    "            df_detail = df_detail.append({\"ISS_DATE\" : '', \n",
    "                                          \"TITL\" : title.text.strip(), \n",
    "                                          #[2019.01.23]為了匯出CSV有特殊字元能判斷換行\n",
    "                                          \"ISS_CTNT\" : content.text.strip().replace(\"\\n\",\"\\\\n\"),\n",
    "                                          \"ISS_NO\" : '',\n",
    "                                          \"RLT_RGL\" : '',\n",
    "                                          \"FILES\" : ','.join(str(e.get(\"title\")).replace(\"(開啟新視窗)\", \"\") \n",
    "                                                            for e in attachments),\n",
    "                                          \"FOLDER_NM\" : title.text.strip()[:30],\n",
    "                                          \"FILES_NM\" : ','.join(tmpFILES_NM)\n",
    "                                         }, \n",
    "                                         ignore_index = True)\n",
    "        except:\n",
    "            logging.error(\"爬取內文失敗\")\n",
    "            logging.error(\"失敗連結：\" + link)\n",
    "            traceback.print_exc()\n",
    "\n",
    "    return df_detail"
   ]
  },
  {
   "cell_type": "code",
   "execution_count": 3,
   "metadata": {
    "collapsed": true
   },
   "outputs": [],
   "source": [
    "def parsingTitle(soup, checkRange):\n",
    "    try:\n",
    "        # 取得上次爬網結果\n",
    "        lastResultPath = header.LAST_RESULT_PATH + \"/lastResult.csv\"\n",
    "        if os.path.isfile(lastResultPath):\n",
    "            lastResult = pd.read_csv(lastResultPath)\n",
    "        else:\n",
    "            lastResult = pd.DataFrame()\n",
    "        \n",
    "        # 爬網日期區間為一個禮拜\n",
    "        endDate = datetime.date.today()\n",
    "        strDate = (endDate - datetime.timedelta(days = checkRange)).isoformat()\n",
    "        \n",
    "        totalPage = soup.select(\".page\")[0].text.split(\"/\")[1] # 總頁數\n",
    "        ending = False\n",
    "        \n",
    "        df = pd.DataFrame(columns = [\"WEB_ADDR\", \"CRL_DATE\", \"ISS_DATE\", \"TITL\", \"LNK_URL\"])\n",
    "\n",
    "        for i in range(int(totalPage)):\n",
    "            if (i != 0):\n",
    "                soup = request2soup(url, i + 1)\n",
    "\n",
    "            try:\n",
    "                sorts = soup.select(\".sort1\")\n",
    "                sorts = [x.text.strip() for x in sorts]\n",
    "                \n",
    "                dates = soup.select(\".pdate1\")\n",
    "                dates = [x.text.strip() for x in dates]\n",
    "\n",
    "                sources = soup.select(\".souse1\")\n",
    "                sources = [x.text.strip() for x in sources] \n",
    "\n",
    "                titles = soup.select(\".ptitle1\")\n",
    "                titles = [x.text.strip() for x in titles] \n",
    "\n",
    "                links = soup.select(\".ptitle1 a\")\n",
    "                links = [\"https://www.fsc.gov.tw/ch/\" + x.get(\"href\") for x in links]\n",
    "\n",
    "                idx = pd.Series([False] * len(dates))\n",
    "                for j in range(len(dates)):\n",
    "                    date = dates[j]\n",
    "                    if date < strDate: # 若發文日期小於開始日期, 則結束爬取主旨\n",
    "                        ending = True\n",
    "                        break\n",
    "                    idx[j] = True\n",
    "                d = {\"WEB_ADDR\" : url, \"CRL_DATE\" : endDate, \"ISS_DATE\" : dates, \"TITL\" : titles, \"LNK_URL\" : links}\n",
    "                df = df.append(pd.DataFrame(data = d)[idx])  # append page\n",
    "\n",
    "                # 若結束爬取主旨, 停止爬取剩下的 pages\n",
    "                if ending:\n",
    "                    break\n",
    "            except:\n",
    "                logging.error(\"爬取第 %s 頁主旨發生錯誤\" %str(i + 1))\n",
    "                traceback.print_exc()\n",
    "\n",
    "        df.index = [i for i in range(df.shape[0])] # reset Index \n",
    "        header.outputCsv(df, \"lastResult\", header.LAST_RESULT_PATH)\n",
    "\n",
    "        if not lastResult.empty:\n",
    "            # 若與上次發文日期和標題相同，則跳至下一筆\n",
    "            for i in range(len(df)):\n",
    "                for j in range(len(lastResult)):\n",
    "                    if (df.ISS_DATE[i] == lastResult.ISS_DATE[j]) & (df.TITL[i] == lastResult.TITL[j]): \n",
    "                        df.drop(i, inplace = True)\n",
    "                        break\n",
    "\n",
    "        if len(df) == 0:\n",
    "            logging.critical(\"%s 至 %s 間無資料更新\" %(strDate, endDate))\n",
    "        else:\n",
    "            df.index = [i for i in range(df.shape[0])] # reset \n",
    "\n",
    "        return df\n",
    "    \n",
    "    except:\n",
    "        logging.error(\"爬取主旨列表失敗\")\n",
    "        traceback.print_exc()\n",
    "        return pd.DataFrame(columns = [\"WEB_ADDR\", \"CRL_DATE\", \"ISS_DATE\", \"TITL\", \"LNK_URL\"])\n",
    "  "
   ]
  },
  {
   "cell_type": "code",
   "execution_count": 4,
   "metadata": {
    "collapsed": true
   },
   "outputs": [],
   "source": [
    "def request2soup(url, page = None):\n",
    "    if page is None:\n",
    "        res = requests.get(url)\n",
    "    else:\n",
    "        formData = {\"id\"         : \"96\", \n",
    "                    \"contentid\"  : \"96\", \n",
    "                    \"parentpath\" : \"0,2\", \n",
    "                    \"mcustomize\" : \"news_list.jsp\", \n",
    "                    \"keyword\"    : \"請輸入查詢關鍵字\", \n",
    "                    \"page\"       : page}\n",
    "        res = requests.post(url, data = formData)\n",
    "        \n",
    "    res.encoding = \"utf-8\"\n",
    "    soup = BeautifulSoup(res.text, \"html.parser\", from_encoding = \"utf-8\")\n",
    "    return soup"
   ]
  },
  {
   "cell_type": "code",
   "execution_count": 5,
   "metadata": {},
   "outputs": [],
   "source": [
    "def main(url, checkRange = 30):\n",
    "    header.processBegin(url = url)\n",
    "    header.clearFolder(crawlList=True)\n",
    "\n",
    "    try:\n",
    "        soup = request2soup(url, 1)\n",
    "        \n",
    "        df_1 = parsingTitle(soup, checkRange)\n",
    "        if len(df_1) != 0:\n",
    "            header.outputCsv(df_1, \"第一層結果\")\n",
    "            df_2 = parsingDetail(df_1)\n",
    "\n",
    "            header.outputCsv(df_2, \"第二層結果\")\n",
    "            header.RESULT_COUNT = len(df_2)\n",
    "        header.zipFile()\n",
    "        header.createInfoFile()\n",
    "        header.createOKFile()\n",
    "    except:\n",
    "        logging.error(\"執行爬網作業失敗\")\n",
    "        traceback.print_exc()\n",
    "        header.createInfoFile()\n",
    "    \n",
    "    header.processEnd()"
   ]
  },
  {
   "cell_type": "code",
   "execution_count": 6,
   "metadata": {},
   "outputs": [
    {
     "name": "stdout",
     "output_type": "stream",
     "text": [
      "20190124154118\n"
     ]
    }
   ],
   "source": [
    "print(header.TIMELABEL)\n",
    "logging.fatal(\"FINAL_PATH:\"+ header.FINAL_PATH)\n",
    "url = \"https://www.fsc.gov.tw/ch/home.jsp?id=96&parentpath=0,2\""
   ]
  },
  {
   "cell_type": "code",
   "execution_count": 7,
   "metadata": {},
   "outputs": [
    {
     "name": "stderr",
     "output_type": "stream",
     "text": [
      "D:\\00_yen\\lib\\site-packages\\bs4\\__init__.py:179: UserWarning: You provided Unicode markup but also provided a value for from_encoding. Your from_encoding will be ignored.\n",
      "  warnings.warn(\"You provided Unicode markup but also provided a value for from_encoding. Your from_encoding will be ignored.\")\n"
     ]
    }
   ],
   "source": [
    "main(url)"
   ]
  },
  {
   "cell_type": "code",
   "execution_count": null,
   "metadata": {},
   "outputs": [],
   "source": []
  },
  {
   "cell_type": "code",
   "execution_count": null,
   "metadata": {},
   "outputs": [],
   "source": []
  }
 ],
 "metadata": {
  "kernelspec": {
   "display_name": "Python 3",
   "language": "python",
   "name": "python3"
  },
  "language_info": {
   "codemirror_mode": {
    "name": "ipython",
    "version": 3
   },
   "file_extension": ".py",
   "mimetype": "text/x-python",
   "name": "python",
   "nbconvert_exporter": "python",
   "pygments_lexer": "ipython3",
   "version": "3.7.0"
  }
 },
 "nbformat": 4,
 "nbformat_minor": 2
}
