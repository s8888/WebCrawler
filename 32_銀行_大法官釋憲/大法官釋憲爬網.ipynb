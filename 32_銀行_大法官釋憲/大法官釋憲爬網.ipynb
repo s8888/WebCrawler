{
 "cells": [
  {
   "cell_type": "raw",
   "metadata": {},
   "source": [
    "'''\n",
    "Project Name: moj project\n",
    "Crawl Cycle: Daily\n",
    "Main Website: https://www.judicial.gov.tw/constitutionalcourt/p03_0001.asp\n",
    "author      : 林德昌\n",
    "date        : 2018/12/17\n",
    "description : 抓取大法官釋憲每天發布的最新消息\n",
    "'''"
   ]
  },
  {
   "cell_type": "code",
   "execution_count": 31,
   "metadata": {},
   "outputs": [],
   "source": [
    "import requests\n",
    "from bs4 import BeautifulSoup\n",
    "import pandas as pd\n",
    "import header\n",
    "import logging\n",
    "import re\n",
    "import datetime\n",
    "import traceback # 印log\n",
    "import os\n",
    "TempPath = \"./Temp\"  # browser file\n",
    "FinalPath = \"./Result\" # project file\n",
    "lastResultPath = \"./CrawlList/lastResult.csv\""
   ]
  },
  {
   "cell_type": "code",
   "execution_count": 32,
   "metadata": {},
   "outputs": [],
   "source": [
    "def downloadFile(finalPath, title, fileUrls, fileNames): # for download pdf or doc\n",
    "    target = finalPath + '/' + title[:30].strip()\n",
    "    # 若目錄不存在，建立目錄\n",
    "    if not os.path.isdir(target):\n",
    "        os.makedirs(target)\n",
    "    for file_url, fileName in zip(fileUrls, fileNames):\n",
    "        try:\n",
    "            response = requests.get(file_url, stream=\"TRUE\")\n",
    "            downloadFile = target + '/' + fileName.strip() # 放置資料夾路徑 + 檔名\n",
    "            logging.info(downloadFile + '\\r\\n')\n",
    "            with open(downloadFile,'wb') as file:\n",
    "                for data in response.iter_content():\n",
    "                    file.write(data)\n",
    "        except:\n",
    "            logging.error(\"爬取檔案失敗\")\n",
    "            logging.error(\"失敗連結：\" + file_url)"
   ]
  },
  {
   "cell_type": "code",
   "execution_count": 33,
   "metadata": {},
   "outputs": [],
   "source": [
    "def dataProcess_Detail(soup):\n",
    "    result = dict()\n",
    "    fileUrlRoot = 'https://www.judicial.gov.tw/constitutionalcourt/'\n",
    "    result['fileNames'] = [e.text for e in soup.select('.content_table a')]\n",
    "    logging.info(result['fileNames'])\n",
    "    result['fileUrls'] = [fileUrlRoot + e.get('href') for e in soup.select('.content_table a')]\n",
    "    result['content0'] = [e.text.strip().replace('\\xa0','').replace('\\r\\n\\t\\t\\t\\t\\t','') for e in soup.select('.content_table td')][0] # 解釋字號\n",
    "    result['content1'] = [e.text.strip().replace('\\xa0','').replace('\\r\\n\\t\\t\\t\\t\\t','') for e in soup.select('.content_table td')][1] # 解釋公布院令\n",
    "    result['content2'] = [e.text.strip() for e in soup.select('.content_table td')][2] # 解釋爭點\n",
    "    result['content3'] = [e.text.strip().replace('\\u3000','') for e in soup.select('.content_table td')][3] # 解釋文\n",
    "    result['content4'] = [e.text.strip().replace('\\u3000','') for e in soup.select('.content_table td')][4] # 理由書\n",
    "    result['issue_date'] = re.findall(r'中華民國.+?日', result['content1'])[0]\n",
    "    \n",
    "    return result\n"
   ]
  },
  {
   "cell_type": "code",
   "execution_count": 34,
   "metadata": {},
   "outputs": [],
   "source": [
    "def parsingDetail(df, finalPath): \n",
    "    df2 = pd.DataFrame(columns = [\"標題\", \"發文日期\", \"附件\", \"發文字號(解釋字號)\",\"解釋公布院令\",\"解釋爭點\", \"解釋文\", \"理由書\", \"相關法條\"])\n",
    "    for index, row in df.iterrows():\n",
    "        try:\n",
    "            title = row['標題']\n",
    "            logging.info(title)\n",
    "            link = row['內文連結']\n",
    "            soup = request2soup(link)\n",
    "            result = dataProcess_Detail(soup)\n",
    "            fileNames = result['fileNames'] \n",
    "            if len(fileNames) != 0:\n",
    "                downloadFile(finalPath, title, result['fileUrls'], fileNames)\n",
    "            d = {'標題': title, '發文日期':result['issue_date'], '附件':','.join(fileNames), '發文字號(解釋字號)':result['content0'],\n",
    "                 \"解釋公布院令\":result['content1'], '解釋爭點':result['content2'], \"解釋文\": result['content3'], '理由書':result['content4'],\n",
    "                 '相關法條':''}\n",
    "            df2= df2.append(pd.DataFrame(data=d, index=[0]))\n",
    "        except:\n",
    "            logging.error(\"爬取內文失敗\")\n",
    "            logging.error(\"失敗連結：\" + link)\n",
    "            traceback.print_exc()\n",
    "    return df2"
   ]
  },
  {
   "cell_type": "code",
   "execution_count": 35,
   "metadata": {},
   "outputs": [],
   "source": [
    "def outputCsv(df, fileName, path):\n",
    "    # 若目錄不存在，建立目錄\n",
    "    if not os.path.isdir(path):\n",
    "        os.mkdir(path)\n",
    "    df.to_csv(path + \"/\" + fileName + \".csv\", index = False, encoding = \"utf_8_sig\")"
   ]
  },
  {
   "cell_type": "code",
   "execution_count": 36,
   "metadata": {},
   "outputs": [],
   "source": [
    "def compareTo(strDate, endDate):\n",
    "    if int(re.split(r'(/|-|\\.)', strDate)[0]) < 1911:\n",
    "        strDate = datetime.datetime.strptime(str(int(re.sub(r'(/|-|\\.)', '', strDate)) + 19110000), \"%Y%m%d\").strftime(\"%Y-%m-%d\")\n",
    "    if int(re.split(r'(/|-|\\.)', endDate)[0]) < 1911:\n",
    "        endDate = datetime.datetime.strptime(str(int(re.sub(r'(/|-|\\.)', '', endDate)) + 19110000), \"%Y%m%d\").strftime(\"%Y-%m-%d\")\n",
    "    try:\n",
    "        strDate = datetime.datetime.strptime(strDate, \"%Y-%m-%d\")\n",
    "        endDate = datetime.datetime.strptime(endDate, \"%Y-%m-%d\")\n",
    "\n",
    "    except:\n",
    "        logging.error('compareTo(strDate, endDate):')\n",
    "        logging.error(\"日期格式錯誤：strDate = %s, endDate = %s\" %(strDate, endDate))\n",
    "        return\n",
    "    if strDate < endDate:\n",
    "        return 1\n",
    "    elif strDate == endDate:\n",
    "        return 0\n",
    "    else:\n",
    "        return -1"
   ]
  },
  {
   "cell_type": "code",
   "execution_count": 37,
   "metadata": {},
   "outputs": [],
   "source": [
    "def parsingTitle(soup, checkRange):\n",
    "    try:\n",
    "        # 取得上次爬網結果\n",
    "        if os.path.isfile(lastResultPath):\n",
    "            lastResult = pd.read_csv(lastResultPath)\n",
    "        else:\n",
    "            lastResult = pd.DataFrame()\n",
    "        \n",
    "        # 爬網日期區間為一個禮拜\n",
    "        endDate = datetime.date.today()\n",
    "        strDate = (endDate - datetime.timedelta(days = checkRange)).isoformat()\n",
    "        \n",
    "        nowPage = 1\n",
    "        df = pd.DataFrame(columns=['爬網日期','發文日期','標題','內文連結','大法官解釋字號'])\n",
    "        while True:\n",
    "            index = 0 # css selector上的資料序號\n",
    "            while True:\n",
    "                try:\n",
    "                    title = [e.text.strip().replace('\\r\\r\\n','') for e in soup.select('#AutoNumber2 td[width=\"84%\"] p font')][index]\n",
    "                    if title == []:  # 當title抓不到東西的時候代表抓完資料了\n",
    "                        break\n",
    "                    link = [('https://www.judicial.gov.tw/constitutionalcourt/' + e.get('href')) for e in soup.select('#AutoNumber2 td[width=\"16%\"] p a')][index]\n",
    "                    date = [re.findall(r'\\(.+\\)', e.text)[0][1:-1] for e in soup.select('#AutoNumber2 td[width=\"16%\"] p a')][index]\n",
    "                    serno = [e.text for e in soup.select('#AutoNumber2 td[width=\"16%\"] p a')][index]\n",
    "                    if compareTo(date, strDate) > 0:\n",
    "                        break\n",
    "                    tempDf = {'爬網日期': endDate, '發文日期': date,'標題': title, '內文連結': link, '大法官解釋字號':serno}\n",
    "                    df = df.append(pd.DataFrame(data = tempDf, index=[0]))\n",
    "                    index += 1\n",
    "                except:\n",
    "                    logging.error(\"爬取第 %s 頁第 %s 筆主旨發生錯誤\" %(nowPage, index + 1))\n",
    "                    traceback.print_exc()\n",
    "            if compareTo(date, strDate) > 0:   # 當日期起始大於發文日期時就停止\n",
    "                break\n",
    "            nowPage += 1\n",
    "            soup = request2soup(url + \"&TPage={}\".format(nowPage))  \n",
    "            \n",
    "        df.index = [i for i in range(df.shape[0])] # reset Index \n",
    "        \n",
    "        \n",
    "        if not lastResult.empty:\n",
    "            for index, row in df.iterrows():\n",
    "                if (row['發文日期'] in list(lastResult['發文日期'])) and (row['大法官解釋字號'] in list(lastResult['大法官解釋字號'])):\n",
    "                    df.drop(index, inplace = True)\n",
    "\n",
    "        if len(df) == 0:\n",
    "            logging.critical(\"%s 至 %s 間無資料更新\" %(strDate, endDate))\n",
    "        else:\n",
    "            df.index = [i for i in range(df.shape[0])] # reset \n",
    "            outputCsv(df, \"lastResult\", \"./CrawlList\")\n",
    "    except:\n",
    "        logging.error(\"爬取主旨列表失敗\")\n",
    "        traceback.print_exc()\n",
    "    \n",
    "    return df\n"
   ]
  },
  {
   "cell_type": "code",
   "execution_count": 38,
   "metadata": {},
   "outputs": [],
   "source": [
    "def request2soup(url):\n",
    "    res = requests.get(url)\n",
    "    res.encoding = 'big5'\n",
    "    soup = BeautifulSoup(res.text,'html.parser',from_encoding='utf-8')\n",
    "    return soup"
   ]
  },
  {
   "cell_type": "code",
   "execution_count": 39,
   "metadata": {},
   "outputs": [],
   "source": [
    "def main(url, checkRange = 30):\n",
    "    \n",
    "    logging.critical(\"\\n\")\n",
    "    logging.critical(\"爬網開始......\")\n",
    "    logging.critical(\"目標網址：\" + url)\n",
    "    \n",
    "    strTime = datetime.datetime.now()\n",
    "    logging.critical(\"開始時間：\" + strTime.strftime(\"%Y/%m/%d %H:%M:%S\"))\n",
    "    try:\n",
    "        soup = request2soup(url)\n",
    "        df_1 = parsingTitle(soup, checkRange)\n",
    "        if len(df_1) == 0:\n",
    "            return\n",
    "        outputCsv(df_1, \"第一層結果\", FinalPath)\n",
    "\n",
    "        df_2 = parsingDetail(df_1, FinalPath)\n",
    "        outputCsv(df_2, \"第二層結果\", FinalPath)\n",
    "    except:\n",
    "        logging.error(\"執行爬網作業失敗\")\n",
    "        traceback.print_exc()\n",
    "        \n",
    "    endTime = datetime.datetime.now()\n",
    "    logging.critical(\"結束時間：\" + endTime.strftime(\"%Y/%m/%d %H:%M:%S\"))\n",
    "    logging.critical(\"執行時間：\" + str((endTime - strTime).seconds) + \" 秒\")\n",
    "    logging.critical(\"輸出筆數：\" + str(len(df_1)) + \" 筆\")\n",
    "    logging.critical(\"爬網結束......\")"
   ]
  },
  {
   "cell_type": "code",
   "execution_count": 40,
   "metadata": {},
   "outputs": [
    {
     "name": "stderr",
     "output_type": "stream",
     "text": [
      "2018-12-17 18:22:42,692 - <ipython-input-39-06004faffb04>[line:3] - CRITICAL: \n",
      "\n",
      "2018-12-17 18:22:42,696 - <ipython-input-39-06004faffb04>[line:4] - CRITICAL: 爬網開始......\n",
      "2018-12-17 18:22:42,700 - <ipython-input-39-06004faffb04>[line:5] - CRITICAL: 目標網址：https://www.judicial.gov.tw/constitutionalcourt/p03_0001.asp\n",
      "2018-12-17 18:22:42,705 - <ipython-input-39-06004faffb04>[line:8] - CRITICAL: 開始時間：2018/12/17 18:22:42\n",
      "C:\\Users\\Administrator\\Anaconda3\\lib\\site-packages\\bs4\\__init__.py:179: UserWarning: You provided Unicode markup but also provided a value for from_encoding. Your from_encoding will be ignored.\n",
      "  warnings.warn(\"You provided Unicode markup but also provided a value for from_encoding. Your from_encoding will be ignored.\")\n",
      "2018-12-17 18:22:44,116 - <ipython-input-37-4184f9aa7dcb>[line:47] - CRITICAL: 2018-11-17 至 2018-12-17 間無資料更新\n"
     ]
    }
   ],
   "source": [
    "if __name__ == \"__main__\":\n",
    "    url = \"https://www.judicial.gov.tw/constitutionalcourt/p03_0001.asp\"\n",
    "    main(url)"
   ]
  }
 ],
 "metadata": {
  "kernelspec": {
   "display_name": "Python 3",
   "language": "python",
   "name": "python3"
  },
  "language_info": {
   "codemirror_mode": {
    "name": "ipython",
    "version": 3
   },
   "file_extension": ".py",
   "mimetype": "text/x-python",
   "name": "python",
   "nbconvert_exporter": "python",
   "pygments_lexer": "ipython3",
   "version": "3.7.0"
  }
 },
 "nbformat": 4,
 "nbformat_minor": 2
}
