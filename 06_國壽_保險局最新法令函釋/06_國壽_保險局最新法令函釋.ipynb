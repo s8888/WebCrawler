{
 "cells": [
  {
   "cell_type": "raw",
   "metadata": {},
   "source": [
    "'''\n",
    "Project Name: 保險局最新法令函釋＿法規異動資訊\n",
    "CTM Name    : \n",
    "Crawl Cycle : Daily\n",
    "Main Website: https://www.ib.gov.tw/ch/home.jsp?id=37&parentpath=0,3\n",
    "Description : 保險局最新法令函釋\n",
    "Author      : 謝子嫣\n",
    "Update Date : 2018.11.19\n",
    "'''"
   ]
  },
  {
   "cell_type": "code",
   "execution_count": 1,
   "metadata": {},
   "outputs": [],
   "source": [
    "import header\n",
    "import logging\n",
    "\n",
    "import datetime\n",
    "import pandas as pd\n",
    "import traceback\n",
    "from bs4 import BeautifulSoup\n",
    "\n",
    "import os\n",
    "import requests\n",
    "import re"
   ]
  },
  {
   "cell_type": "code",
   "execution_count": 2,
   "metadata": {},
   "outputs": [],
   "source": [
    "def getResult(findall, STR_NUM):\n",
    "    if findall != []:\n",
    "        result = findall[0][STR_NUM:-1]\n",
    "    else:\n",
    "        result = \"\"\n",
    "    return result"
   ]
  },
  {
   "cell_type": "code",
   "execution_count": 3,
   "metadata": {},
   "outputs": [],
   "source": [
    "def parsingDetail(df, FinalPath):\n",
    "\n",
    "    df_detail = pd.DataFrame(columns = [\"標題\", \"全文內容\", \"附件\", \"發文字號\", \"發文日期\", \"相關法條\"])\n",
    "\n",
    "    for link in df.link:\n",
    "        try:\n",
    "            print(\"擷取網址：\" + link)\n",
    "            soup = request2soup(link)\n",
    "           \n",
    "            # 主旨\n",
    "            title = soup.select(\"h3\")[1]\n",
    "            # 內容\n",
    "            content = soup.select(\".page_content\")[0]\n",
    "            # 附件\n",
    "            attachments = soup.select(\".acces a\") # n 個附件\n",
    "            # 新增欄位\n",
    "            str_content = str(content)\n",
    "            findall01 = re.findall(r'發文字號.+?<', str_content)\n",
    "            result01 = getResult(findall01, 5)\n",
    "            findall02 = re.findall(r'發文日期.+?<', str_content)\n",
    "            result02 = getResult(findall02, 5)\n",
    "            findall03 = re.findall(r'法令依據.+?<', str_content)\n",
    "            result03 = getResult(findall03, 5)\n",
    "            \n",
    "            df_detail = df_detail.append({\"標題\" : title.text, \n",
    "                                          \"全文內容\" : content.text, \n",
    "                                          \"附件\" : \" , \".join(str(e.get(\"title\")).replace(\"(開啟新視窗)\", \"\") \n",
    "                                                            for e in attachments),\n",
    "                                          \"發文字號\" : result01,\n",
    "                                          \"發文日期\" : result02,\n",
    "                                          \"相關法條\" : result03\n",
    "                                         }, \n",
    "                                         ignore_index = True)\n",
    "\n",
    "            # 附件\n",
    "            if len(attachments) != 0:\n",
    "                \n",
    "                # 建立資料夾\n",
    "                target = FinalPath + \"/\" + title.text[:30]\n",
    "                \n",
    "                # 若目錄不存在, 建立目錄\n",
    "                if not os.path.isdir(target):\n",
    "                    os.mkdir(target)\n",
    "                    \n",
    "                for attach in attachments:\n",
    "                    fileLink = \"https://www.ib.gov.tw\" + attach.get(\"href\")\n",
    "                    # 下載附件\n",
    "                    response = requests.get(fileLink, stream = \"TRUE\")\n",
    "                    fileName = attach.get(\"title\").replace(\"(開啟新視窗)\", \"\")\n",
    "                    endLoc = fileName.rfind(\".\") # 檔名結尾位置\n",
    "                    extName = fileName[endLoc:]  # 副檔名\n",
    "                    fileName = fileName[:endLoc] # 檔名\n",
    "                    fileName = fileName[:30]     # 截短檔名\n",
    "                    with open(target + \"/\" + fileName + extName, \"wb\") as file:\n",
    "                        for data in response.iter_content():\n",
    "                            file.write(data)\n",
    "\n",
    "            print(\"爬取成功\")\n",
    "        except:\n",
    "            print(\"爬取內文失敗\")\n",
    "            print(\"失敗連結：\" + link)\n",
    "            logging.error(\"爬取內文失敗\")\n",
    "            logging.error(\"失敗連結：\" + link)\n",
    "            traceback.print_exc()\n",
    "        \n",
    "        print(\"\\n\")\n",
    "    return df_detail"
   ]
  },
  {
   "cell_type": "code",
   "execution_count": 4,
   "metadata": {
    "collapsed": true
   },
   "outputs": [],
   "source": [
    "def outputCsv(df, fileName, path):\n",
    "    # 若目錄不存在, 建立目錄\n",
    "    if not os.path.isdir(path):\n",
    "        os.mkdir(path)\n",
    "    df.to_csv(path + \"/\" + fileName + \".csv\", index = False, encoding = \"utf_8_sig\")"
   ]
  },
  {
   "cell_type": "code",
   "execution_count": 5,
   "metadata": {
    "collapsed": true
   },
   "outputs": [],
   "source": [
    "def parsingTitle(soup, checkRange):\n",
    "    try:\n",
    "        # 取得上次爬網結果\n",
    "        lastResultPath = \"./CrawlList/lastResult.csv\"\n",
    "        if os.path.isfile(lastResultPath):\n",
    "            lastResult = pd.read_csv(lastResultPath)\n",
    "        else:\n",
    "            lastResult = pd.DataFrame()\n",
    "        \n",
    "        # 爬網日期區間為一個禮拜\n",
    "        endDate = datetime.date.today()\n",
    "        # endDate = datetime.date.today() - datetime.timedelta(days=0)\n",
    "        strDate = (endDate - datetime.timedelta(days = checkRange)).isoformat()\n",
    "        \n",
    "        totalPage = soup.select(\".page\")[0].text.split(\"/\")[1] # 總頁數\n",
    "        ending = False\n",
    "        \n",
    "        df = pd.DataFrame(columns = [\"編號\", \"爬文日期\", \"發布日期\", \"標題\", \"link\"])\n",
    "\n",
    "        for i in range(int(totalPage)):\n",
    "            if (i != 0):\n",
    "                soup = request2soup(url, i + 1)\n",
    "\n",
    "            try:\n",
    "                sorts = soup.select(\".sort1\")\n",
    "                sorts = [x.text.strip() for x in sorts]\n",
    "                \n",
    "                strTime = endDate\n",
    "                searchDates = str(strTime.year) + str(strTime.month) +  str(strTime.day)\n",
    "                \n",
    "                dates = soup.select(\".pdate1\")\n",
    "                dates = [x.text.strip() for x in dates]\n",
    "\n",
    "                titles = soup.select(\".ptitle1\")\n",
    "                titles = [x.text.strip() for x in titles] \n",
    "\n",
    "                links = soup.select(\".ptitle1 a\")\n",
    "                links = [\"https://www.ib.gov.tw/ch/\" + x.get(\"href\") for x in links]\n",
    "\n",
    "                idx = pd.Series([False] * len(dates))\n",
    "                for j in range(len(dates)):\n",
    "                    date = dates[j]\n",
    "                    if date < strDate: # 若發文日期小於開始日期, 則結束爬取主旨\n",
    "                        ending = True\n",
    "                        break\n",
    "                    idx[j] = True\n",
    "                \n",
    "                d = {\"編號\" : sorts, \"爬文日期\" : searchDates, \"發布日期\" : dates, \"標題\" : titles, \"link\" : links}\n",
    "                df = df.append(pd.DataFrame(data = d)[idx])  # append page\n",
    "\n",
    "                # 若結束爬取主旨, 停止爬取剩下的 pages\n",
    "                if ending:\n",
    "                    break\n",
    "            except:\n",
    "                print(\"爬取第 %s 頁主旨發生錯誤\" %str(i + 1))\n",
    "                logging.error(\"爬取第 %s 頁主旨發生錯誤\" %str(i + 1))\n",
    "                traceback.print_exc()\n",
    "\n",
    "        df.index = [i for i in range(df.shape[0])] # reset Index \n",
    "        outputCsv(df, \"lastResult\", \"./CrawlList\")\n",
    "\n",
    "        if not lastResult.empty:\n",
    "            # 若與上次發文日期和標題相同，則跳至下一筆\n",
    "            for i in range(len(df)):\n",
    "                for j in range(len(lastResult)):\n",
    "                    if (df.date[i] == lastResult.date[j]) & (df.title[i] == lastResult.title[j]): \n",
    "                        df.drop(i, inplace = True)\n",
    "                        break\n",
    "\n",
    "        if len(df) == 0:\n",
    "            print(\"%s 至 %s 間無資料更新\" %(strDate, endDate))\n",
    "            logging.critical(\"%s 至 %s 間無資料更新\" %(strDate, endDate))\n",
    "        else:\n",
    "            df.index = [i for i in range(df.shape[0])] # reset \n",
    "\n",
    "        return df\n",
    "    \n",
    "    except:\n",
    "        print(\"爬取主旨列表失敗\")\n",
    "        logging.error(\"爬取主旨列表失敗\")\n",
    "        traceback.print_exc()\n",
    "        return pd.DataFrame(columns = [\"date\", \"source\", \"title\", \"link\"])\n",
    "  "
   ]
  },
  {
   "cell_type": "code",
   "execution_count": 6,
   "metadata": {
    "collapsed": true
   },
   "outputs": [],
   "source": [
    "def request2soup(url, page = None):\n",
    "    if page is None:\n",
    "        res = requests.get(url)\n",
    "    else:\n",
    "        formData = {\"id\"         : \"37\", \n",
    "                    \"contentid\"  : \"37\", \n",
    "                    \"parentpath\" : \"0,2\", \n",
    "                    \"mcustomize\" : \"lawnew_list.jsp\", \n",
    "                    \"keyword\"    : \"請輸入查詢關鍵字\", \n",
    "                    \"page\"       : page}\n",
    "        res = requests.post(url, data = formData)\n",
    "        \n",
    "    res.encoding = \"utf-8\"\n",
    "    soup = BeautifulSoup(res.text, \"html.parser\", from_encoding = \"utf-8\")\n",
    "    return soup"
   ]
  },
  {
   "cell_type": "code",
   "execution_count": 7,
   "metadata": {},
   "outputs": [],
   "source": [
    "def main(url, checkRange = 30):\n",
    "    \n",
    "    logging.critical(\"\\n\")\n",
    "    logging.critical(\"爬網開始......\")\n",
    "    logging.critical(\"目標網址：\" + url)\n",
    "    \n",
    "    strTime = datetime.datetime.now()\n",
    "    logging.critical(\"開始時間：\" + strTime.strftime(\"%Y/%m/%d %H:%M:%S\"))\n",
    "    \n",
    "    TempPath = \"./Temp\"  # browser file\n",
    "    FinalPath = \"./Result\" # project file\n",
    "    \n",
    "    try:\n",
    "        soup = request2soup(url, 1)\n",
    "        \n",
    "        df_1 = parsingTitle(soup, checkRange)\n",
    "        if len(df_1) != 0:\n",
    "            outputCsv(df_1, \"第一層結果\", FinalPath)\n",
    "        \n",
    "            df_2 = parsingDetail(df_1, FinalPath)\n",
    "            outputCsv(df_2, \"第二層結果\", FinalPath)\n",
    "    except:\n",
    "        print(\"執行爬網作業失敗\")\n",
    "        logging.error(\"執行爬網作業失敗\")\n",
    "        traceback.print_exc()\n",
    "    \n",
    "    endTime = datetime.datetime.now()\n",
    "    logging.critical(\"結束時間：\" + endTime.strftime(\"%Y/%m/%d %H:%M:%S\"))\n",
    "    logging.critical(\"執行時間：\" + str((endTime - strTime).seconds) + \" 秒\")\n",
    "    logging.critical(\"輸出筆數：\" + str(len(df_1)) + \" 筆\")\n",
    "    logging.critical(\"爬網結束......\\n\")"
   ]
  },
  {
   "cell_type": "code",
   "execution_count": 8,
   "metadata": {},
   "outputs": [
    {
     "name": "stderr",
     "output_type": "stream",
     "text": [
      "D:\\00_yen\\lib\\site-packages\\bs4\\__init__.py:179: UserWarning: You provided Unicode markup but also provided a value for from_encoding. Your from_encoding will be ignored.\n",
      "  warnings.warn(\"You provided Unicode markup but also provided a value for from_encoding. Your from_encoding will be ignored.\")\n"
     ]
    },
    {
     "name": "stdout",
     "output_type": "stream",
     "text": [
      "擷取網址：https://www.ib.gov.tw/ch/home.jsp?id=37&parentpath=0,3&mcustomize=lawnew_view.jsp&dataserno=201812210001&dtable=Law\n",
      "爬取成功\n",
      "\n",
      "\n",
      "擷取網址：https://www.ib.gov.tw/ch/home.jsp?id=37&parentpath=0,3&mcustomize=lawnew_view.jsp&dataserno=201812070001&dtable=Law\n",
      "爬取成功\n",
      "\n",
      "\n",
      "擷取網址：https://www.ib.gov.tw/ch/home.jsp?id=37&parentpath=0,3&mcustomize=lawnew_view.jsp&dataserno=201812030001&dtable=Law\n",
      "爬取成功\n",
      "\n",
      "\n",
      "擷取網址：https://www.ib.gov.tw/ch/home.jsp?id=37&parentpath=0,3&mcustomize=lawnew_view.jsp&dataserno=201811220001&dtable=Law\n",
      "爬取成功\n",
      "\n",
      "\n"
     ]
    }
   ],
   "source": [
    "if __name__ == \"__main__\":\n",
    "    url = \"https://www.ib.gov.tw/ch/home.jsp?id=37&parentpath=0,3\"\n",
    "    main(url)"
   ]
  },
  {
   "cell_type": "code",
   "execution_count": null,
   "metadata": {},
   "outputs": [],
   "source": []
  },
  {
   "cell_type": "code",
   "execution_count": null,
   "metadata": {},
   "outputs": [],
   "source": []
  },
  {
   "cell_type": "code",
   "execution_count": 27,
   "metadata": {},
   "outputs": [
    {
     "name": "stderr",
     "output_type": "stream",
     "text": [
      "D:\\00_yen\\lib\\site-packages\\bs4\\__init__.py:179: UserWarning: You provided Unicode markup but also provided a value for from_encoding. Your from_encoding will be ignored.\n",
      "  warnings.warn(\"You provided Unicode markup but also provided a value for from_encoding. Your from_encoding will be ignored.\")\n"
     ]
    },
    {
     "data": {
      "text/plain": [
       "<div class=\"page_content\">\n",
       "<div class=\"contentdate\">2018-10-24</div>\n",
       "<div><div>金融監督管理委員會　令</div><div>發文日期：中華民國107年10月24日</div><div>發文字號：金管保綜字第10704566251號</div><div> </div><div> </div><div>訂定「保險代理人公司保險經紀人公司辦理網路投保業務及網路保險服務管理辦法」。</div><div>附「保險代理人公司保險經紀人公司辦理網路投保業務及網路保險服務管理辦法」</div><div> </div></div>\n",
       "</div>"
      ]
     },
     "execution_count": 27,
     "metadata": {},
     "output_type": "execute_result"
    }
   ],
   "source": [
    "soup = request2soup(\"https://www.ib.gov.tw/ch/home.jsp?id=37&parentpath=0,3&mcustomize=lawnew_view.jsp&dataserno=201810240001&dtable=Law\")\n",
    "content = soup.select(\".page_content\")[0]\n",
    "content"
   ]
  },
  {
   "cell_type": "code",
   "execution_count": 28,
   "metadata": {},
   "outputs": [
    {
     "data": {
      "text/plain": [
       "'\\n2018-10-24\\n金融監督管理委員會\\u3000令發文日期：中華民國107年10月24日發文字號：金管保綜字第10704566251號\\xa0\\xa0訂定「保險代理人公司保險經紀人公司辦理網路投保業務及網路保險服務管理辦法」。附「保險代理人公司保險經紀人公司辦理網路投保業務及網路保險服務管理辦法」\\xa0\\n'"
      ]
     },
     "execution_count": 28,
     "metadata": {},
     "output_type": "execute_result"
    }
   ],
   "source": [
    "content.text"
   ]
  },
  {
   "cell_type": "code",
   "execution_count": 29,
   "metadata": {},
   "outputs": [
    {
     "data": {
      "text/plain": [
       "'訂定「保險代理人公司保險經紀人公司辦理網路投保業務及網路保險服務管理辦法」。附「保險代理人公司保險經紀人公司辦理網路投保業務及網路保險服務管理辦法」'"
      ]
     },
     "execution_count": 29,
     "metadata": {},
     "output_type": "execute_result"
    }
   ],
   "source": [
    "FR_NUM = content.text.find(\"發文字號：\")\n",
    "result05 = content.text[FR_NUM+25 : -2]\n",
    "result05"
   ]
  },
  {
   "cell_type": "code",
   "execution_count": 12,
   "metadata": {},
   "outputs": [
    {
     "name": "stdout",
     "output_type": "stream",
     "text": [
      "2018-12-13 17:46:40.986000\n",
      "20181213\n"
     ]
    }
   ],
   "source": [
    "strTime = datetime.datetime.now()\n",
    "searchDates = str(strTime.year) + str(strTime.month) +  str(strTime.day)\n",
    "print(strTime)\n",
    "print(searchDates)"
   ]
  },
  {
   "cell_type": "code",
   "execution_count": 9,
   "metadata": {},
   "outputs": [
    {
     "data": {
      "text/plain": [
       "datetime.date(2018, 12, 17)"
      ]
     },
     "execution_count": 9,
     "metadata": {},
     "output_type": "execute_result"
    }
   ],
   "source": [
    "endDate = datetime.date.today() - datetime.timedelta(days=1)\n",
    "endDate"
   ]
  },
  {
   "cell_type": "code",
   "execution_count": 10,
   "metadata": {},
   "outputs": [
    {
     "data": {
      "text/plain": [
       "datetime.date(2018, 11, 17)"
      ]
     },
     "execution_count": 10,
     "metadata": {},
     "output_type": "execute_result"
    }
   ],
   "source": [
    "strDate = endDate- datetime.timedelta(days=30)\n",
    "strDate"
   ]
  }
 ],
 "metadata": {
  "kernelspec": {
   "display_name": "Python 3",
   "language": "python",
   "name": "python3"
  },
  "language_info": {
   "codemirror_mode": {
    "name": "ipython",
    "version": 3
   },
   "file_extension": ".py",
   "mimetype": "text/x-python",
   "name": "python",
   "nbconvert_exporter": "python",
   "pygments_lexer": "ipython3",
   "version": "3.7.0"
  }
 },
 "nbformat": 4,
 "nbformat_minor": 2
}
