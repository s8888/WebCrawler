{
 "cells": [
  {
   "cell_type": "raw",
   "metadata": {},
   "source": [
    "'''\n",
    "Project Name: 法務部調查局洗錢防制處\n",
    "CTM Name    : \n",
    "Crawl Cycle : Daily\n",
    "Main Website: https://www.mjib.gov.tw/mlpc\n",
    "Description : 法務部調查局洗錢防制處\n",
    "Author      : 謝子嫣\n",
    "Update Date : 2018.11.21\n",
    "'''"
   ]
  },
  {
   "cell_type": "code",
   "execution_count": 8,
   "metadata": {},
   "outputs": [],
   "source": [
    "import header\n",
    "import logging\n",
    "\n",
    "import datetime\n",
    "import pandas as pd\n",
    "import traceback\n",
    "from bs4 import BeautifulSoup\n",
    "\n",
    "import os\n",
    "import requests\n",
    "import re"
   ]
  },
  {
   "cell_type": "code",
   "execution_count": 9,
   "metadata": {},
   "outputs": [],
   "source": [
    "def dataProcess_Title(soup, strDate):\n",
    "    result = dict()\n",
    "    titles_result = []\n",
    "    dates = []\n",
    "    links = []\n",
    "\n",
    "    try:\n",
    "        soup = request2soup(url)\n",
    "        titles = [e.text for e in soup.select('#wrapper li a')]\n",
    "        links_tmp = [x.get('href') for x in soup.select(\"#wrapper li a\")]\n",
    "        \n",
    "        for link in links_tmp:\n",
    "            fulLink = re.findall(r'https://.+?',link)\n",
    "            if fulLink:\n",
    "                links.append(link)\n",
    "            else:\n",
    "                links.append(\"https://www.mjib.gov.tw\" + link)\n",
    "\n",
    "    except:\n",
    "        logging.error(\"爬取主旨發生錯誤\")\n",
    "        traceback.print_exc()\n",
    "        \n",
    "    result['titles_result'] = titles\n",
    "    result['links'] = links\n",
    "    result['crawl_date'] = datetime.date.today()\n",
    "    return result"
   ]
  },
  {
   "cell_type": "code",
   "execution_count": 10,
   "metadata": {
    "collapsed": true
   },
   "outputs": [],
   "source": [
    "def parsingTitle(soup, checkRange):\n",
    "    try:\n",
    "        # 取得上次爬網結果\n",
    "        lastResultPath = header.LAST_RESULT_PATH # +\"/lastResult.csv\"#[2019.02.11]\n",
    "        \n",
    "        if os.path.isfile(lastResultPath):\n",
    "            lastResult = pd.read_csv(lastResultPath)\n",
    "        else:\n",
    "            lastResult = pd.DataFrame()\n",
    "        header.lastResult = lastResult #[2019.02.11]新增全域變數\n",
    "        \n",
    "        # 爬網日期區間為一個禮拜\n",
    "        endDate = datetime.date.today()\n",
    "        strDate = (endDate - datetime.timedelta(days = checkRange)).isoformat()        \n",
    "        \n",
    "        df = pd.DataFrame(columns = [\"WEB_ADDR\", \"CRL_DATE\", \"ISS_DATE\", \"TITL\", \"LNK_URL\"])\n",
    "        soup = request2soup(url)\n",
    "        \n",
    "        # 資料處理\n",
    "        result = dataProcess_Title(soup, strDate)\n",
    "\n",
    "        d = {'WEB_ADDR':url, 'CRL_DATE':result['crawl_date'], 'ISS_DATE':'', \n",
    "             'TITL': result['titles_result'], 'LNK_URL': result['links']}\n",
    "        \n",
    "        df = df.append(pd.DataFrame(data = d))    \n",
    "        # 若與上次發文日期和標題相同，則跳至下一筆\n",
    "        if not lastResult.empty:\n",
    "            for index, row in df.iterrows():\n",
    "                if row['TITL'] in list(lastResult['TITL']):\n",
    "                    df.drop(index, inplace = True)\n",
    "                    \n",
    "        if len(df) == 0:\n",
    "            logging.critical(\"%s 至 %s 間無資料更新\" %(strDate, endDate))\n",
    "        else:\n",
    "            df.index = [i for i in range(df.shape[0])] # reset\n",
    "            lastResult = lastResult.append(df)\n",
    "            lastResult.index = [i for i in range(lastResult.shape[0])] # reset\n",
    "            lastResult = lastResult[pd.to_datetime(lastResult['CRL_DATE']) >= (datetime.date.today() - datetime.timedelta(days = checkRange))]\n",
    "            header.outputCsv(lastResult, \"lastResult\", header.CRAWL_LIST_PATH)\n",
    "        \n",
    "    except:\n",
    "        header.EXIT_CODE = -1\n",
    "        logging.error(\"爬取主旨列表失敗\")\n",
    "        traceback.print_exc()\n",
    "    return df"
   ]
  },
  {
   "cell_type": "code",
   "execution_count": 11,
   "metadata": {
    "collapsed": true
   },
   "outputs": [],
   "source": [
    "def request2soup(url, page = None):\n",
    "    res = requests.get(url)\n",
    "    res.encoding = \"utf-8\"\n",
    "    soup = BeautifulSoup(res.text, \"html.parser\", from_encoding = \"utf-8\")\n",
    "    return soup"
   ]
  },
  {
   "cell_type": "code",
   "execution_count": 12,
   "metadata": {},
   "outputs": [],
   "source": [
    "def main(url, checkRange = 30):\n",
    "    header.processBegin(url = url)\n",
    "    header.clearFolder()#[2019.02.11]\n",
    "    \n",
    "    try:\n",
    "        soup = request2soup(url)\n",
    "        \n",
    "        df_1 = parsingTitle(soup, checkRange)\n",
    "        if len(df_1) != 0:\n",
    "            #outputCsv(df_1, \"第一層結果\", FinalPath)\n",
    "            header.outputCsv(df_1, \"第一層結果\")\n",
    "            \n",
    "        header.zipFile()\n",
    "        header.createInfoFile()\n",
    "        header.createOKFile()\n",
    "        header.outputLastResult(df_1, header.lastResult, checkRange)   #[2019.02.11]新增產出lastResult方法\n",
    "    except:\n",
    "        logging.error(\"執行爬網作業失敗\")\n",
    "        traceback.print_exc()\n",
    "        header.createInfoFile()\n",
    "        \n",
    "    header.processEnd()"
   ]
  },
  {
   "cell_type": "code",
   "execution_count": 13,
   "metadata": {},
   "outputs": [
    {
     "name": "stdout",
     "output_type": "stream",
     "text": [
      "20190222105151\n"
     ]
    }
   ],
   "source": [
    "print(header.TIMELABEL)\n",
    "logging.fatal(\"FINAL_PATH:\"+ header.FINAL_PATH)\n",
    "url = \"https://www.mjib.gov.tw/mlpc\""
   ]
  },
  {
   "cell_type": "code",
   "execution_count": 14,
   "metadata": {},
   "outputs": [
    {
     "name": "stderr",
     "output_type": "stream",
     "text": [
      "D:\\00_yen\\lib\\site-packages\\bs4\\__init__.py:179: UserWarning: You provided Unicode markup but also provided a value for from_encoding. Your from_encoding will be ignored.\n",
      "  warnings.warn(\"You provided Unicode markup but also provided a value for from_encoding. Your from_encoding will be ignored.\")\n",
      "C:\\Users\\Administrator.Cathay-PC\\Desktop\\新增資料夾\\Web_Crawler\\22_國壽_法務部調查局洗錢防制處\\header.py:155: FutureWarning: Comparing Series of datetimes with 'datetime.date'.  Currently, the\n",
      "'datetime.date' is coerced to a datetime. In the future pandas will\n",
      "not coerce, and a TypeError will be raised. To retain the current\n",
      "behavior, convert the 'datetime.date' to a datetime with\n",
      "'pd.Timestamp'.\n",
      "  lastResult = lastResult[pd.to_datetime(lastResult['CRL_DATE']) >= (datetime.date.today() - datetime.timedelta(days=checkRange))]\n"
     ]
    }
   ],
   "source": [
    "main(url)"
   ]
  },
  {
   "cell_type": "code",
   "execution_count": null,
   "metadata": {},
   "outputs": [],
   "source": []
  }
 ],
 "metadata": {
  "kernelspec": {
   "display_name": "Python 3",
   "language": "python",
   "name": "python3"
  },
  "language_info": {
   "codemirror_mode": {
    "name": "ipython",
    "version": 3
   },
   "file_extension": ".py",
   "mimetype": "text/x-python",
   "name": "python",
   "nbconvert_exporter": "python",
   "pygments_lexer": "ipython3",
   "version": "3.7.0"
  }
 },
 "nbformat": 4,
 "nbformat_minor": 2
}
