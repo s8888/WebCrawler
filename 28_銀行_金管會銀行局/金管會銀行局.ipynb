{
 "cells": [
  {
   "cell_type": "raw",
   "metadata": {},
   "source": [
    "'''\n",
    "Project Name: bankingGov project\n",
    "Crawl Cycle: Daily\n",
    "Main Website: https://www.banking.gov.tw/ch/home.jsp?id=190&parentpath=0,3&mcustomize=\n",
    "author      : 林德昌\n",
    "date        : 2018/10/16\n",
    "description : 抓取金管會銀行局每天發布的最新法令函釋\n",
    "'''"
   ]
  },
  {
   "cell_type": "code",
   "execution_count": 1,
   "metadata": {},
   "outputs": [],
   "source": [
    "import requests\n",
    "from bs4 import BeautifulSoup\n",
    "import pandas as pd\n",
    "import time\n",
    "import re\n",
    "import header\n",
    "import logging\n",
    "\n",
    "import sys\n",
    "import datetime\n",
    "import pandas as pd\n",
    "import traceback # 印log\n",
    "import os\n",
    "TempPath = \"./Temp\"  # browser file\n",
    "FinalPath = \"./Result\" # project file"
   ]
  },
  {
   "cell_type": "code",
   "execution_count": 2,
   "metadata": {},
   "outputs": [],
   "source": [
    "def downloadFile(finalPath, title, fileUrls, fileNames): # for download pdf or doc\n",
    "    target = finalPath + '/' + title[:30].strip()\n",
    "    # 若目錄不存在，建立目錄\n",
    "    if not os.path.isdir(target):\n",
    "        os.makedirs(target)\n",
    "    i = 0\n",
    "    for file_url, fileName in zip(fileUrls, fileNames):\n",
    "        try:\n",
    "            response = requests.get(file_url, stream=\"TRUE\")\n",
    "            downloadFile = target + '/' + fileName.strip() # 放置資料夾路徑 + 檔名\n",
    "            print(downloadFile + '\\r\\n')\n",
    "            with open(downloadFile,'wb') as file:\n",
    "                for data in response.iter_content():\n",
    "                    file.write(data)\n",
    "        except:\n",
    "            print(\"爬取檔案失敗\")\n",
    "            print(\"失敗連結：\" + file_url)\n",
    "            logging.error(\"爬取檔案失敗\")\n",
    "            logging.error(\"失敗連結：\" + file_url)\n",
    "        i += 1"
   ]
  },
  {
   "cell_type": "code",
   "execution_count": 3,
   "metadata": {},
   "outputs": [],
   "source": [
    "def dataProcess_Detail(soup, fileUrlRoot):\n",
    "    result = dict()\n",
    "    result['content'] = [e.text for e in soup.select('.page_content')][0]\n",
    "    result['fileNames'] = [e.text for e in soup.select('.acces a')]\n",
    "    print(result['fileNames'])\n",
    "    result['fileUrls'] = [fileUrlRoot + e.get('href') for e in soup.select('.acces a')]\n",
    "    str_content = str(soup.select('.page_content')[0])\n",
    "    result['serno'] = re.findall(r'發文字號.+?\\d+.+?', str_content)[0][5:]\n",
    "    return result\n"
   ]
  },
  {
   "cell_type": "code",
   "execution_count": 4,
   "metadata": {},
   "outputs": [],
   "source": [
    "def parsingDetail(df, finalPath): \n",
    "    df2 = pd.DataFrame(columns = [\"標題\", \"全文內容\", \"附件\", \"發文字號\", \"發文日期\", \"相關法條\"])\n",
    "    fileUrlRoot = 'https://www.banking.gov.tw'\n",
    "    for index, row in df.iterrows():\n",
    "        title = row['title']\n",
    "        print(title)\n",
    "        link = row['link']\n",
    "        date = row['date']\n",
    "        try:\n",
    "            soup = request2soup(link)\n",
    "            result = dataProcess_Detail(soup, fileUrlRoot)\n",
    "        except:\n",
    "            print(\"爬取內文失敗\")\n",
    "            print(\"失敗連結：\" + link)\n",
    "            logging.error(\"爬取內文失敗\")\n",
    "            logging.error(\"失敗連結：\" + link)\n",
    "            traceback.print_exc()\n",
    "        fileNames = result['fileNames'] \n",
    "        if len(fileNames) != 0:\n",
    "            downloadFile(finalPath, title, result['fileUrls'], fileNames)\n",
    "        d = {'標題': title, '全文內容': result['content'], '附件':','.join(fileNames), '發文字號':result['serno'], '發文日期':date,\n",
    "             '相關法條':''}\n",
    "        df2= df2.append(pd.DataFrame(data=d, index=[0]))\n",
    "    return df2"
   ]
  },
  {
   "cell_type": "code",
   "execution_count": 5,
   "metadata": {},
   "outputs": [],
   "source": [
    "def outputCsv(df, fileName, path):\n",
    "    # 若目錄不存在，建立目錄\n",
    "    if not os.path.isdir(path):\n",
    "        os.mkdir(path)\n",
    "    df.to_csv(path + \"/\" + fileName + \".csv\", index = False, encoding = \"utf_8_sig\")"
   ]
  },
  {
   "cell_type": "code",
   "execution_count": 6,
   "metadata": {},
   "outputs": [],
   "source": [
    "def compareTo(strDate, endDate):\n",
    "    if int(re.split(r'(/|-|\\.)', strDate)[0]) < 1911:\n",
    "        strDate = datetime.datetime.strptime(str(int(re.sub(r'(/|-|\\.)', '', strDate)) + 19110000), \"%Y%m%d\").strftime(\"%Y-%m-%d\")\n",
    "    if int(re.split(r'(/|-|\\.)', endDate)[0]) < 1911:\n",
    "        endDate = datetime.datetime.strptime(str(int(re.sub(r'(/|-|\\.)', '', endDate)) + 19110000), \"%Y%m%d\").strftime(\"%Y-%m-%d\")\n",
    "    try:\n",
    "        strDate = datetime.datetime.strptime(strDate, \"%Y-%m-%d\")\n",
    "        endDate = datetime.datetime.strptime(endDate, \"%Y-%m-%d\")\n",
    "\n",
    "    except:\n",
    "        print(\"日期格式錯誤：strDate = %s, endDate = %s\" %(strDate, endDate))\n",
    "        logging.error('compareTo(strDate, endDate):')\n",
    "        logging.error(\"日期格式錯誤：strDate = %s, endDate = %s\" %(strDate, endDate))\n",
    "        return\n",
    "    if strDate < endDate:\n",
    "        return 1\n",
    "    elif strDate == endDate:\n",
    "        return 0\n",
    "    else:\n",
    "        return -1\n"
   ]
  },
  {
   "cell_type": "code",
   "execution_count": 7,
   "metadata": {},
   "outputs": [],
   "source": [
    "def dataProcess_Title(soup, strDate):\n",
    "    result = dict()\n",
    "    nowPage = 1\n",
    "    preurl = 'https://www.banking.gov.tw/ch/'\n",
    "    titles_result = []\n",
    "    dates = []\n",
    "    links = []\n",
    "    while True:\n",
    "        try:\n",
    "            if (nowPage > 1):\n",
    "                soup = request2soup(url, nowPage)\n",
    "            titles = [str(e.get('title').strip()) for e in soup.select('.ptitle1 a')]\n",
    "            if titles == []:\n",
    "                break\n",
    "            for index in range(len(titles)):\n",
    "                try:\n",
    "                    title = titles[index]\n",
    "                    date = soup.select('.pdate1')[index].text.strip()\n",
    "                    if compareTo(date, strDate) > 0: # 若發文日期小於開始日期, 則結束爬取主旨\n",
    "                        break\n",
    "                    link = preurl + soup.select('.ptitle1 a')[index].get('href')\n",
    "                    titles_result.append(title)\n",
    "                    dates.append(date)\n",
    "                    links.append(link)\n",
    "                except:\n",
    "                    print(\"爬取第 %s 頁第 %s 筆主旨發生錯誤\" %(nowPage, index))\n",
    "                    logging.error(\"爬取第 %s 頁第 %s 筆主旨發生錯誤\" %(nowPage, index))\n",
    "                    traceback.print_exc()\n",
    "            nowPage += 1\n",
    "        except:\n",
    "            print(\"爬取第 %s 頁主旨發生錯誤\" %(nowPage))\n",
    "            logging.error(\"爬取第 %s 頁主旨發生錯誤\" %(nowPage))\n",
    "            traceback.print_exc()\n",
    "        \n",
    "    result['titles_result'] = titles_result\n",
    "    result['dates'] = dates\n",
    "    result['links'] = links\n",
    "    result['nowPage'] = nowPage\n",
    "    result['index'] = index + 1\n",
    "    return result\n",
    "\n",
    "        "
   ]
  },
  {
   "cell_type": "code",
   "execution_count": 8,
   "metadata": {},
   "outputs": [],
   "source": [
    "def parsingTitle(soup, checkRange):\n",
    "    try:\n",
    "        # 取得上次爬網結果\n",
    "        lastResultPath = \"./CrawlList/lastResult.csv\"\n",
    "        if os.path.isfile(lastResultPath):\n",
    "            lastResult = pd.read_csv(lastResultPath)\n",
    "        else:\n",
    "            lastResult = pd.DataFrame()\n",
    "        \n",
    "        # 爬網日期區間為一個禮拜\n",
    "        endDate = datetime.date.today()\n",
    "        strDate = (endDate - datetime.timedelta(days = checkRange)).isoformat()\n",
    "        df = pd.DataFrame(columns = [\"date\", \"title\", \"link\"])\n",
    "        \n",
    "        # 資料處理\n",
    "        result = dataProcess_Title(soup, strDate)\n",
    "        \n",
    "        d = {'date': result['dates'], 'title': result['titles_result'], 'link': result['links']}\n",
    "        df = df.append(pd.DataFrame(data=d))    \n",
    "        # 若與上次發文日期和標題相同，則跳至下一筆\n",
    "        if not lastResult.empty:\n",
    "            for index, row in df.iterrows():\n",
    "                if (row['date'] in list(lastResult.date)) and (row['title'] in list(lastResult.title)):\n",
    "                    df.drop(index, inplace = True)\n",
    "                    \n",
    "        if len(df) == 0:\n",
    "            print(\"%s 至 %s 間無資料更新\" %(strDate, endDate))\n",
    "            logging.critical(\"%s 至 %s 間無資料更新\" %(strDate, endDate))\n",
    "        else:\n",
    "            df.index = [i for i in range(df.shape[0])] # reset\n",
    "            outputCsv(df, \"lastResult\", \"./CrawlList\")\n",
    "        \n",
    "    except:\n",
    "        print(\"爬取主旨列表失敗\")\n",
    "        logging.error(\"爬取主旨列表失敗\")\n",
    "        traceback.print_exc()\n",
    "    return df\n",
    "    \n"
   ]
  },
  {
   "cell_type": "code",
   "execution_count": 9,
   "metadata": {},
   "outputs": [],
   "source": [
    "def request2soup(url, page = None):\n",
    "    if page is None:\n",
    "        res = requests.get(url)\n",
    "    else:\n",
    "        formData = {'id':'190',\n",
    "                'contentid':'190',\n",
    "                'parentpath':'0,3',\n",
    "                'mcustomize':'lawnew_list.jsp',\n",
    "                'keyword':'請輸入查詢關鍵字',           \n",
    "                'page':page} \n",
    "        res = requests.post(url, data = formData)\n",
    "        \n",
    "    res.encoding = \"utf-8\"\n",
    "    soup = BeautifulSoup(res.text, \"html.parser\", from_encoding = \"utf-8\")\n",
    "    return soup"
   ]
  },
  {
   "cell_type": "code",
   "execution_count": 10,
   "metadata": {},
   "outputs": [],
   "source": [
    "def main(url, checkRange = 18):\n",
    "    \n",
    "    logging.critical(\"\\n\")\n",
    "    logging.critical(\"爬網開始......\")\n",
    "    logging.critical(\"目標網址：\" + url)\n",
    "    \n",
    "    strTime = datetime.datetime.now()\n",
    "    logging.critical(\"開始時間：\" + strTime.strftime(\"%Y/%m/%d %H:%M:%S\"))\n",
    "    try:\n",
    "        soup = request2soup(url, 1)\n",
    "        df_1 = parsingTitle(soup, checkRange)\n",
    "        if len(df_1) == 0:\n",
    "            return\n",
    "        outputCsv(df_1, \"第一層結果\", FinalPath)\n",
    "\n",
    "        df_2 = parsingDetail(df_1, FinalPath)\n",
    "        outputCsv(df_2, \"第二層結果\", FinalPath)\n",
    "    except:\n",
    "        print(\"執行爬網作業失敗\")\n",
    "        logging.error(\"執行爬網作業失敗\")\n",
    "        traceback.print_exc()\n",
    "        \n",
    "    endTime = datetime.datetime.now()\n",
    "    logging.critical(\"結束時間：\" + endTime.strftime(\"%Y/%m/%d %H:%M:%S\"))\n",
    "    logging.critical(\"執行時間：\" + str((endTime - strTime).seconds) + \" 秒\")\n",
    "    logging.critical(\"輸出筆數：\" + str(len(df_1)) + \" 筆\")\n",
    "    logging.critical(\"爬網結束......\")"
   ]
  },
  {
   "cell_type": "code",
   "execution_count": 11,
   "metadata": {},
   "outputs": [
    {
     "name": "stderr",
     "output_type": "stream",
     "text": [
      "C:\\Users\\Administrator\\Anaconda3\\lib\\site-packages\\bs4\\__init__.py:179: UserWarning: You provided Unicode markup but also provided a value for from_encoding. Your from_encoding will be ignored.\n",
      "  warnings.warn(\"You provided Unicode markup but also provided a value for from_encoding. Your from_encoding will be ignored.\")\n"
     ]
    },
    {
     "name": "stdout",
     "output_type": "stream",
     "text": [
      "爬取第 1 頁第 0 筆主旨發生錯誤\n",
      "爬取第 1 頁第 1 筆主旨發生錯誤\n",
      "爬取第 1 頁第 2 筆主旨發生錯誤\n",
      "爬取第 1 頁第 3 筆主旨發生錯誤\n"
     ]
    },
    {
     "name": "stderr",
     "output_type": "stream",
     "text": [
      "Traceback (most recent call last):\n",
      "  File \"<ipython-input-7-bdada8137f86>\", line 21, in dataProcess_Title\n",
      "    link = preurl + soup.select('.ptite1 a')[index].get('href')\n",
      "IndexError: list index out of range\n",
      "Traceback (most recent call last):\n",
      "  File \"<ipython-input-7-bdada8137f86>\", line 21, in dataProcess_Title\n",
      "    link = preurl + soup.select('.ptite1 a')[index].get('href')\n",
      "IndexError: list index out of range\n",
      "Traceback (most recent call last):\n",
      "  File \"<ipython-input-7-bdada8137f86>\", line 21, in dataProcess_Title\n",
      "    link = preurl + soup.select('.ptite1 a')[index].get('href')\n",
      "IndexError: list index out of range\n",
      "Traceback (most recent call last):\n",
      "  File \"<ipython-input-7-bdada8137f86>\", line 21, in dataProcess_Title\n",
      "    link = preurl + soup.select('.ptite1 a')[index].get('href')\n",
      "IndexError: list index out of range\n"
     ]
    },
    {
     "name": "stdout",
     "output_type": "stream",
     "text": [
      "2018-11-17 至 2018-12-05 間無資料更新\n"
     ]
    }
   ],
   "source": [
    "if __name__ == \"__main__\":\n",
    "    url = \"https://www.banking.gov.tw/ch/home.jsp?id=190&parentpath=0,3\"\n",
    "    main(url)"
   ]
  },
  {
   "cell_type": "code",
   "execution_count": 35,
   "metadata": {},
   "outputs": [],
   "source": [
    "def functionName( level ):\n",
    "    try:\n",
    "        if level < 1:\n",
    "            raise Exception(\"Invalid level!\", level)\n",
    "    except:\n",
    "        traceback.print_exc()\n",
    "    finally:\n",
    "        print('yes')"
   ]
  },
  {
   "cell_type": "code",
   "execution_count": 36,
   "metadata": {},
   "outputs": [
    {
     "name": "stdout",
     "output_type": "stream",
     "text": [
      "yes\n"
     ]
    },
    {
     "name": "stderr",
     "output_type": "stream",
     "text": [
      "Traceback (most recent call last):\n",
      "  File \"<ipython-input-35-8c03c610b73b>\", line 4, in functionName\n",
      "    raise Exception(\"Invalid level!\", level)\n",
      "Exception: ('Invalid level!', 0)\n"
     ]
    }
   ],
   "source": [
    "try:\n",
    "    functionName(0)\n",
    "except:\n",
    "    print(\"爬取主旨列表失敗\")\n",
    "    traceback.print_exc()"
   ]
  },
  {
   "cell_type": "code",
   "execution_count": 19,
   "metadata": {},
   "outputs": [
    {
     "data": {
      "text/plain": [
       "0"
      ]
     },
     "execution_count": 19,
     "metadata": {},
     "output_type": "execute_result"
    }
   ],
   "source": [
    "result = dict()\n",
    "# result['a'] = 45\n",
    "len(result)"
   ]
  }
 ],
 "metadata": {
  "kernelspec": {
   "display_name": "Python 3",
   "language": "python",
   "name": "python3"
  },
  "language_info": {
   "codemirror_mode": {
    "name": "ipython",
    "version": 3
   },
   "file_extension": ".py",
   "mimetype": "text/x-python",
   "name": "python",
   "nbconvert_exporter": "python",
   "pygments_lexer": "ipython3",
   "version": "3.7.0"
  }
 },
 "nbformat": 4,
 "nbformat_minor": 2
}
